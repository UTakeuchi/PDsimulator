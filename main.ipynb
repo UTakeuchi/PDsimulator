{
  "nbformat": 4,
  "nbformat_minor": 0,
  "metadata": {
    "colab": {
      "provenance": [],
      "collapsed_sections": [
        "Gled_79uHbi8",
        "-5B7cxkartUi"
      ],
      "authorship_tag": "ABX9TyPP5o7hWk7KuV2q3267UzJX",
      "include_colab_link": true
    },
    "kernelspec": {
      "name": "python3",
      "display_name": "Python 3"
    },
    "language_info": {
      "name": "python"
    }
  },
  "cells": [
    {
      "cell_type": "markdown",
      "metadata": {
        "id": "view-in-github",
        "colab_type": "text"
      },
      "source": [
        "<a href=\"https://colab.research.google.com/github/UTakeuchi/PDsimulator/blob/main/main.ipynb\" target=\"_parent\"><img src=\"https://colab.research.google.com/assets/colab-badge.svg\" alt=\"Open In Colab\"/></a>"
      ]
    },
    {
      "cell_type": "code",
      "execution_count": null,
      "metadata": {
        "id": "1ruQr4KzdkHb"
      },
      "outputs": [],
      "source": [
        "from collections import defaultdict\n",
        "import numpy as np\n",
        "import matplotlib.pyplot as plt"
      ]
    },
    {
      "cell_type": "markdown",
      "source": [
        "# Q学習エージェント"
      ],
      "metadata": {
        "id": "xo0qUW9Hr89G"
      }
    },
    {
      "cell_type": "code",
      "source": [
        "def greedy_probs(Q, state, epsilon=0, action_size=2):\n",
        "    qs = [Q[(state, action)] for action in range(action_size)]\n",
        "    max_action = np.argmax(qs)\n",
        "    base_prob = epsilon / action_size\n",
        "    action_probs = {action: base_prob for action in range(action_size)}  #{0: ε/4, 1: ε/4, 2: ε/4, 3: ε/4}\n",
        "    action_probs[max_action] += (1 - epsilon)\n",
        "    return action_probs"
      ],
      "metadata": {
        "id": "PaNQlbZ4Xl4z"
      },
      "execution_count": null,
      "outputs": []
    },
    {
      "cell_type": "code",
      "source": [
        "class Agent:\n",
        "    def __init__(self):\n",
        "        self.gamma = 0.9\n",
        "        self.alpha = 0.8\n",
        "        self.epsilon = 0.1\n",
        "        self.action_size = 2\n",
        "        self.income = 0 #所得\n",
        "        #self.rep = 'g' #評判(good or bad)    \n",
        "\n",
        "        random_actions = {0: 0.5, 1: 0.5}\n",
        "        self.pi = defaultdict(lambda: random_actions)\n",
        "        self.b = defaultdict(lambda: random_actions)\n",
        "        self.Q = defaultdict(lambda: 0)\n",
        "    \n",
        "    def get_action(self, state):\n",
        "        action_probs = self.b[state]\n",
        "        actions = list(action_probs.keys())\n",
        "        probs = list(action_probs.values())\n",
        "        return np.random.choice(actions, p=probs)\n",
        "\n",
        "    def inc_update(self, reward):\n",
        "        self.income += reward #income update\n",
        "\n",
        "    def update(self, state, action, reward, next_state):\n",
        "        next_qs = [self.Q[next_state, a] for a in range(self.action_size)]\n",
        "        next_q_max = max(next_qs)\n",
        "        \n",
        "        target = reward + self.gamma * next_q_max\n",
        "        self.Q[state, action] += self.alpha * (target - self.Q[state, action])\n",
        "\n",
        "        self.pi[state] = greedy_probs(self.Q, state, epsilon=0)\n",
        "        self.b[state] = greedy_probs(self.Q, state, self.epsilon)"
      ],
      "metadata": {
        "id": "alOKCRmCesuK"
      },
      "execution_count": null,
      "outputs": []
    },
    {
      "cell_type": "markdown",
      "source": [
        "# Prisoner's dillema game"
      ],
      "metadata": {
        "id": "iVl-0aEGHl0W"
      }
    },
    {
      "cell_type": "code",
      "source": [
        "class PDGame:\n",
        "    def __init__(self):\n",
        "        self.action_space = [0, 1]\n",
        "        self.action_meaning = {\n",
        "            0: \"Defect\",\n",
        "            1: \"Cooperate\",\n",
        "        }\n",
        "        self.b = 2 #benefit\n",
        "        self.c = 1 #cost\n",
        "        self.u1 = {(1, 1):self.b - self.c, (1, 0):-self.c, (0, 1):self.b, (0, 0):0}\n",
        "        self.u2 = {(1, 1):self.b - self.c, (1, 0):self.b, (0, 1):-self.c, (0, 0):0}\n",
        "    \n",
        "    def matching():\n",
        "        return None\n",
        "        \n",
        "    def reward(self, a1, a2):\n",
        "        return self.u1[(a1,a2)], self.u2[(a1,a2)]\n",
        "    "
      ],
      "metadata": {
        "id": "cgHih10DHlRj"
      },
      "execution_count": null,
      "outputs": []
    },
    {
      "cell_type": "markdown",
      "source": [
        "# シミュレーションの実行"
      ],
      "metadata": {
        "id": "6_0ouryZsIcv"
      }
    },
    {
      "cell_type": "code",
      "source": [
        "env = PDGame()\n",
        "agent1 = Agent()\n",
        "agent2 = Agent()\n",
        "\n",
        "income1_history = [0]\n",
        "income2_history = [0]\n",
        "rounds = 100\n",
        "for round in range(rounds):\n",
        "    state = (agent1.income, agent2.income)\n",
        "    \n",
        "    a1 = agent1.get_action(state)\n",
        "    a2 = agent2.get_action(state)\n",
        "    r1, r2 = env.reward(a1, a2)\n",
        "\n",
        "    next_state = (agent1.inc_update(r1), agent2.inc_update(r2))\n",
        "    agent1.update(state, a1, r1, next_state)\n",
        "    agent2.update(state, a2, r2, next_state)\n",
        "    income1_history.append(agent1.income)\n",
        "    income2_history.append(agent2.income)\n",
        "\n",
        "for key, value in agent1.pi.items():\n",
        "    print('state:{}, policy:{}'.format(key, value))\n",
        "print(len(agent1.pi))\n",
        "\n",
        "def plot_total_income(history1, history2):\n",
        "    plt.xlabel('Round')\n",
        "    plt.ylabel('Income')\n",
        "    plt.plot(range(len(history1)), history1, label='agent1')\n",
        "    plt.plot(range(len(history2)), history2, label='agent2')\n",
        "    #plt.ylim(0,200)\n",
        "    plt.legend()\n",
        "    plt.show()\n",
        "\n",
        "plot_total_income(income1_history, income2_history)"
      ],
      "metadata": {
        "colab": {
          "base_uri": "https://localhost:8080/",
          "height": 1000
        },
        "id": "KjgJYuv2kQMO",
        "outputId": "16920413-6118-4fac-aa61-2b2a295ee6be"
      },
      "execution_count": null,
      "outputs": [
        {
          "output_type": "stream",
          "name": "stdout",
          "text": [
            "state:(0, 0), policy:{0: 1.0, 1: 0.0}\n",
            "state:(2, -1), policy:{0: 1.0, 1: 0.0}\n",
            "state:(4, -2), policy:{0: 1.0, 1: 0.0}\n",
            "state:(6, -3), policy:{0: 1.0, 1: 0.0}\n",
            "state:(5, -1), policy:{0: 1.0, 1: 0.0}\n",
            "state:(7, -2), policy:{0: 0.0, 1: 1.0}\n",
            "state:(8, -1), policy:{0: 0.0, 1: 1.0}\n",
            "state:(9, 0), policy:{0: 0.0, 1: 1.0}\n",
            "state:(10, 1), policy:{0: 1.0, 1: 0.0}\n",
            "state:(12, 0), policy:{0: 0.0, 1: 1.0}\n",
            "state:(13, 1), policy:{0: 0.0, 1: 1.0}\n",
            "state:(14, 2), policy:{0: 1.0, 1: 0.0}\n",
            "state:(16, 1), policy:{0: 1.0, 1: 0.0}\n",
            "state:(15, 3), policy:{0: 1.0, 1: 0.0}\n",
            "state:(17, 2), policy:{0: 0.0, 1: 1.0}\n",
            "state:(18, 3), policy:{0: 1.0, 1: 0.0}\n",
            "state:(20, 2), policy:{0: 1.0, 1: 0.0}\n",
            "state:(19, 4), policy:{0: 1.0, 1: 0.0}\n",
            "state:(18, 6), policy:{0: 0.0, 1: 1.0}\n",
            "state:(19, 7), policy:{0: 0.0, 1: 1.0}\n",
            "state:(20, 8), policy:{0: 1.0, 1: 0.0}\n",
            "state:(22, 7), policy:{0: 0.0, 1: 1.0}\n",
            "state:(23, 8), policy:{0: 1.0, 1: 0.0}\n",
            "state:(22, 10), policy:{0: 1.0, 1: 0.0}\n",
            "state:(24, 9), policy:{0: 1.0, 1: 0.0}\n",
            "state:(23, 11), policy:{0: 1.0, 1: 0.0}\n",
            "state:(22, 13), policy:{0: 0.0, 1: 1.0}\n",
            "state:(23, 14), policy:{0: 1.0, 1: 0.0}\n",
            "state:(25, 13), policy:{0: 1.0, 1: 0.0}\n",
            "state:(27, 12), policy:{0: 1.0, 1: 0.0}\n",
            "state:(26, 14), policy:{0: 1.0, 1: 0.0}\n",
            "state:(28, 13), policy:{0: 1.0, 1: 0.0}\n",
            "state:(30, 12), policy:{0: 1.0, 1: 0.0}\n",
            "state:(32, 11), policy:{0: 1.0, 1: 0.0}\n",
            "state:(34, 10), policy:{0: 1.0, 1: 0.0}\n",
            "state:(36, 9), policy:{0: 0.0, 1: 1.0}\n",
            "state:(37, 10), policy:{0: 1.0, 1: 0.0}\n",
            "state:(39, 9), policy:{0: 0.0, 1: 1.0}\n",
            "state:(40, 10), policy:{0: 1.0, 1: 0.0}\n",
            "state:(42, 9), policy:{0: 1.0, 1: 0.0}\n",
            "state:(41, 11), policy:{0: 0.0, 1: 1.0}\n",
            "state:(42, 12), policy:{0: 1.0, 1: 0.0}\n",
            "state:(41, 14), policy:{0: 1.0, 1: 0.0}\n",
            "state:(43, 13), policy:{0: 0.0, 1: 1.0}\n",
            "state:(44, 14), policy:{0: 1.0, 1: 0.0}\n",
            "state:(43, 16), policy:{0: 1.0, 1: 0.0}\n",
            "state:(42, 18), policy:{0: 1.0, 1: 0.0}\n",
            "state:(41, 20), policy:{0: 1.0, 1: 0.0}\n",
            "state:(43, 19), policy:{0: 0.0, 1: 1.0}\n",
            "state:(44, 20), policy:{0: 1.0, 1: 0.0}\n",
            "50\n"
          ]
        },
        {
          "output_type": "display_data",
          "data": {
            "text/plain": [
              "<Figure size 432x288 with 1 Axes>"
            ],
            "image/png": "[encoded data removed]"
          },
          "metadata": {
            "needs_background": "light"
          }
        }
      ]
    },
    {
      "cell_type": "markdown",
      "source": [
        "# 以下保留"
      ],
      "metadata": {
        "id": "Gled_79uHbi8"
      }
    },
    {
      "cell_type": "code",
      "source": [
        "class Renderer:\n",
        "    def __init__(self, reward_map, goal_state, wall_state):\n",
        "        self.reward_map = reward_map\n",
        "        self.goal_state = goal_state\n",
        "        self.wall_state = wall_state\n",
        "        self.ys = len(self.reward_map)\n",
        "        self.xs = len(self.reward_map[0])\n",
        "\n",
        "        self.ax = None\n",
        "        self.fig = None\n",
        "        self.first_flg = True\n",
        "\n",
        "    def set_figure(self, figsize=None):\n",
        "        fig = plt.figure(figsize=figsize)\n",
        "        self.ax = fig.add_subplot(111)\n",
        "        ax = self.ax\n",
        "        ax.clear()\n",
        "        ax.tick_params(labelbottom=False, labelleft=False, labelright=False, labeltop=False)\n",
        "        ax.set_xticks(range(self.xs))\n",
        "        ax.set_yticks(range(self.ys))\n",
        "        ax.set_xlim(0, self.xs)\n",
        "        ax.set_ylim(0, self.ys)\n",
        "        ax.grid(True)\n",
        "\n",
        "    def render_v(self, v=None, policy=None, print_value=True):\n",
        "        self.set_figure()\n",
        "\n",
        "        ys, xs = self.ys, self.xs\n",
        "        ax = self.ax\n",
        "\n",
        "        if v is not None:\n",
        "            color_list = ['red', 'white', 'green']\n",
        "            cmap = matplotlib.colors.LinearSegmentedColormap.from_list(\n",
        "                'colormap_name', color_list)\n",
        "\n",
        "            # dict -> ndarray\n",
        "            v_dict = v\n",
        "            v = np.zeros(self.reward_map.shape)\n",
        "            for state, value in v_dict.items():\n",
        "                v[state] = value\n",
        "\n",
        "            vmax, vmin = v.max(), v.min()\n",
        "            vmax = max(vmax, abs(vmin))\n",
        "            vmin = -1 * vmax\n",
        "            vmax = 1 if vmax < 1 else vmax\n",
        "            vmin = -1 if vmin > -1 else vmin\n",
        "\n",
        "            ax.pcolormesh(np.flipud(v), cmap=cmap, vmin=vmin, vmax=vmax)\n",
        "\n",
        "        for y in range(ys):\n",
        "            for x in range(xs):\n",
        "                state = (y, x)\n",
        "                r = self.reward_map[y, x]\n",
        "                if r != 0 and r is not None:\n",
        "                    txt = 'R ' + str(r)\n",
        "                    if state == self.goal_state:\n",
        "                        txt = txt + ' (GOAL)'\n",
        "                    ax.text(x+.1, ys-y-0.9, txt)\n",
        "\n",
        "                if (v is not None) and state != self.wall_state:\n",
        "                    if print_value:\n",
        "                        offsets = [(0.4, -0.15), (-0.15, -0.3)]\n",
        "                        key = 0\n",
        "                        if v.shape[0] > 7: key = 1\n",
        "                        offset = offsets[key]\n",
        "                        ax.text(x+offset[0], ys-y+offset[1], \"{:12.2f}\".format(v[y, x]))\n",
        "\n",
        "                if policy is not None and state != self.wall_state:\n",
        "                    actions = policy[state]\n",
        "                    max_actions = [kv[0] for kv in actions.items() if kv[1] == max(actions.values())]\n",
        "\n",
        "                    arrows = [\"↑\", \"↓\", \"←\", \"→\"]\n",
        "                    offsets = [(0, 0.1), (0, -0.1), (-0.1, 0), (0.1, 0)]\n",
        "                    for action in max_actions:\n",
        "                        arrow = arrows[action]\n",
        "                        offset = offsets[action]\n",
        "                        if state == self.goal_state:\n",
        "                            continue\n",
        "                        ax.text(x+0.45+offset[0], ys-y-0.5+offset[1], arrow)\n",
        "\n",
        "                if state == self.wall_state:\n",
        "                    ax.add_patch(plt.Rectangle((x,ys-y-1), 1, 1, fc=(0.4, 0.4, 0.4, 1.)))\n",
        "        plt.show()\n",
        "\n",
        "    def render_q(self, q, show_greedy_policy=True):\n",
        "        self.set_figure()\n",
        "\n",
        "        ys, xs = self.ys, self.xs\n",
        "        ax = self.ax\n",
        "        action_space = [0, 1, 2, 3]\n",
        "\n",
        "        qmax, qmin = max(q.values()), min(q.values())\n",
        "        qmax = max(qmax, abs(qmin))\n",
        "        qmin = -1 * qmax\n",
        "        qmax = 1 if qmax < 1 else qmax\n",
        "        qmin = -1 if qmin > -1 else qmin\n",
        "\n",
        "\n",
        "        color_list = ['red', 'white', 'green']\n",
        "        cmap = matplotlib.colors.LinearSegmentedColormap.from_list(\n",
        "            'colormap_name', color_list)\n",
        "\n",
        "        for y in range(ys):\n",
        "            for x in range(xs):\n",
        "                for action in action_space:\n",
        "                    state = (y, x)\n",
        "                    r = self.reward_map[y, x]\n",
        "                    if r != 0 and r is not None:\n",
        "                        txt = 'R ' + str(r)\n",
        "                        if state == self.goal_state:\n",
        "                            txt = txt + ' (GOAL)'\n",
        "                        ax.text(x+.05, ys-y-0.95, txt)\n",
        "\n",
        "                    if state == self.goal_state:\n",
        "                        continue\n",
        "\n",
        "                    tx, ty = x, ys-y-1\n",
        "\n",
        "                    action_map = {\n",
        "                        0: ((0.5+tx, 0.5+ty), (tx+1, ty+1), (tx, ty+1)),\n",
        "                        1: ((tx, ty), (tx+1, ty), (tx+0.5, ty+0.5)),\n",
        "                        2: ((tx, ty), (tx+0.5, ty+0.5), (tx, ty+1)),\n",
        "                        3: ((0.5+tx, 0.5+ty), (tx+1, ty), (tx+1, ty+1)),\n",
        "                    }\n",
        "                    offset_map = {\n",
        "                        0: (0.1, 0.8),\n",
        "                        1: (0.1, 0.1),\n",
        "                        2: (-0.2, 0.4),\n",
        "                        3: (0.4, 0.4),\n",
        "                    }\n",
        "                    if state in self.wall_state:\n",
        "                        ax.add_patch(plt.Rectangle((tx, ty), 1, 1, fc=(0.4, 0.4, 0.4, 1.)))\n",
        "                    elif state in self.goal_state:\n",
        "                        ax.add_patch(plt.Rectangle((tx, ty), 1, 1, fc=(0., 1., 0., 1.)))\n",
        "                    else:\n",
        "\n",
        "                        tq = q[(state, action)]\n",
        "                        color_scale = 0.5 + (tq / qmax) / 2  # normalize: 0.0-1.0\n",
        "\n",
        "                        poly = plt.Polygon(action_map[action],fc=cmap(color_scale))\n",
        "                        ax.add_patch(poly)\n",
        "\n",
        "                        offset= offset_map[action]\n",
        "                        ax.text(tx+offset[0], ty+offset[1], \"{:12.2f}\".format(tq))\n",
        "        plt.show()\n",
        "\n",
        "        if show_greedy_policy:\n",
        "            policy = {}\n",
        "            for y in range(self.ys):\n",
        "                for x in range(self.xs):\n",
        "                    state = (y, x)\n",
        "                    qs = [q[state, action] for action in range(4)]  # action_size\n",
        "                    max_action = np.argmax(qs)\n",
        "                    probs = {0:0.0, 1:0.0, 2:0.0, 3:0.0}\n",
        "                    probs[max_action] = 1\n",
        "                    policy[state] = probs\n",
        "            self.render_v(None, policy)"
      ],
      "metadata": {
        "id": "mNV66Iasp1BV"
      },
      "execution_count": null,
      "outputs": []
    },
    {
      "cell_type": "code",
      "source": [],
      "metadata": {
        "id": "-_F9DeWXYnte"
      },
      "execution_count": null,
      "outputs": []
    }
  ]
}
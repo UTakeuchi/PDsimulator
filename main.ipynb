{
  "nbformat": 4,
  "nbformat_minor": 0,
  "metadata": {
    "colab": {
      "provenance": [],
      "collapsed_sections": [],
      "authorship_tag": "ABX9TyOCVnntQqWsmNrSIkg92osU",
      "include_colab_link": true
    },
    "kernelspec": {
      "name": "python3",
      "display_name": "Python 3"
    },
    "language_info": {
      "name": "python"
    }
  },
  "cells": [
    {
      "cell_type": "markdown",
      "metadata": {
        "id": "view-in-github",
        "colab_type": "text"
      },
      "source": [
        "<a href=\"https://colab.research.google.com/github/UTakeuchi/PDsimulator/blob/main/main.ipynb\" target=\"_parent\"><img src=\"https://colab.research.google.com/assets/colab-badge.svg\" alt=\"Open In Colab\"/></a>"
      ]
    },
    {
      "cell_type": "code",
      "execution_count": 1,
      "metadata": {
        "id": "1ruQr4KzdkHb"
      },
      "outputs": [],
      "source": [
        "from collections import defaultdict\n",
        "import numpy as np\n",
        "import matplotlib.pyplot as plt"
      ]
    },
    {
      "cell_type": "markdown",
      "source": [
        "# Q学習エージェント"
      ],
      "metadata": {
        "id": "xo0qUW9Hr89G"
      }
    },
    {
      "cell_type": "code",
      "source": [
        "def greedy_probs(Q, state, epsilon=0, action_size=2):\n",
        "    qs = [Q[(state, action)] for action in range(action_size)]\n",
        "    max_action = np.argmax(qs)\n",
        "    base_prob = epsilon / action_size\n",
        "    action_probs = {action: base_prob for action in range(action_size)}  #{0: ε/4, 1: ε/4, 2: ε/4, 3: ε/4}\n",
        "    action_probs[max_action] += (1 - epsilon)\n",
        "    return action_probs"
      ],
      "metadata": {
        "id": "PaNQlbZ4Xl4z"
      },
      "execution_count": 2,
      "outputs": []
    },
    {
      "cell_type": "code",
      "source": [
        "class Agent:\n",
        "    def __init__(self):\n",
        "        self.gamma = 0.9\n",
        "        self.alpha = 0.8\n",
        "        self.epsilon = 0.1\n",
        "        self.action_size = 2\n",
        "        self.income = 0 #所得\n",
        "        #self.rep = 'g' #評判(good or bad)    \n",
        "\n",
        "        random_actions = {0: 0.5, 1: 0.5}\n",
        "        self.pi = defaultdict(lambda: random_actions)\n",
        "        self.b = defaultdict(lambda: random_actions)\n",
        "        self.Q = defaultdict(lambda: 0)\n",
        "    \n",
        "    def get_action(self, state):\n",
        "        action_probs = self.b[state]\n",
        "        actions = list(action_probs.keys())\n",
        "        probs = list(action_probs.values())\n",
        "        return np.random.choice(actions, p=probs)\n",
        "\n",
        "    def inc_update(self, reward):\n",
        "        self.income += reward #income update\n",
        "\n",
        "    def update(self, state, action, reward, next_state):\n",
        "        next_qs = [self.Q[next_state, a] for a in range(self.action_size)]\n",
        "        next_q_max = max(next_qs)\n",
        "        \n",
        "        target = reward + self.gamma * next_q_max\n",
        "        self.Q[state, action] += self.alpha * (target - self.Q[state, action])\n",
        "\n",
        "        self.pi[state] = greedy_probs(self.Q, state, epsilon=0)\n",
        "        self.b[state] = greedy_probs(self.Q, state, self.epsilon)"
      ],
      "metadata": {
        "id": "alOKCRmCesuK"
      },
      "execution_count": 3,
      "outputs": []
    },
    {
      "cell_type": "markdown",
      "source": [
        "# Prisoner's dillema game"
      ],
      "metadata": {
        "id": "iVl-0aEGHl0W"
      }
    },
    {
      "cell_type": "code",
      "source": [
        "class PDGame:\n",
        "    def __init__(self):\n",
        "        self.action_space = [0, 1]\n",
        "        self.action_meaning = {\n",
        "            0: \"Defect\",\n",
        "            1: \"Cooperate\",\n",
        "        }\n",
        "        self.b = 5 #benefit\n",
        "        self.c = 1 #cost\n",
        "    \n",
        "    def matching(self, agents):\n",
        "        pairs = len(agents) // 2\n",
        "        return np.random.choice(agents, size=(pairs, 2), replace=False)\n",
        "        \n",
        "    def reward(self, a1, a2):\n",
        "        u1 = {(1, 1):self.b - self.c, (1, 0):-self.c, (0, 1):self.b, (0, 0):0}\n",
        "        u2 = {(1, 1):self.b - self.c, (1, 0):self.b, (0, 1):-self.c, (0, 0):0}\n",
        "        return u1[(a1,a2)], u2[(a1,a2)]"
      ],
      "metadata": {
        "id": "cgHih10DHlRj"
      },
      "execution_count": 4,
      "outputs": []
    },
    {
      "cell_type": "markdown",
      "source": [
        "# シミュレーションの実行"
      ],
      "metadata": {
        "id": "6_0ouryZsIcv"
      }
    },
    {
      "cell_type": "code",
      "source": [
        "env = PDGame()\n",
        "n = 10 # agentの人数 n\n",
        "agents = []\n",
        "income_history = []\n",
        "for i in range(n):\n",
        "    agents.append(Agent())\n",
        "    income_history.append([0])\n",
        "\n",
        "rounds = 100\n",
        "for round in range(rounds):\n",
        "    players = env.matching(agents)\n",
        "    for pair in players:\n",
        "        player1, player2 = pair\n",
        "        state = (player1.income, player2.income)\n",
        "    \n",
        "        a1 = player1.get_action(state)\n",
        "        a2 = player2.get_action(state)\n",
        "        r1, r2 = env.reward(a1, a2)\n",
        "\n",
        "        next_state = (player1.inc_update(r1), player2.inc_update(r2))\n",
        "        player1.update(state, a1, r1, next_state)\n",
        "        player2.update(state, a2, r2, next_state)\n",
        "\n",
        "    for i in range(n):\n",
        "        income_history[i].append(agents[i].income)\n",
        "\n",
        "for key, value in agents[0].pi.items():\n",
        "    print('state:{}, policy:{}'.format(key, value))\n",
        "print(len(agents[0].pi))\n",
        "\n",
        "def plot_total_income(history):\n",
        "    plt.xlabel('Round')\n",
        "    plt.ylabel('Income')\n",
        "    for i in range(n):\n",
        "        plt.plot(range(len(history[i])), history[i], label='agent{}'.format(i+1))\n",
        "    plt.legend()\n",
        "    plt.show()\n",
        "\n",
        "plot_total_income(income_history)"
      ],
      "metadata": {
        "colab": {
          "base_uri": "https://localhost:8080/",
          "height": 1000
        },
        "id": "KjgJYuv2kQMO",
        "outputId": "93bb0075-a523-4f8b-ebee-a21dd72c864a"
      },
      "execution_count": 9,
      "outputs": [
        {
          "output_type": "stream",
          "name": "stdout",
          "text": [
            "state:(0, 0), policy:{0: 1.0, 1: 0.0}\n",
            "state:(-1, 5), policy:{0: 1.0, 1: 0.0}\n",
            "state:(-2, -1), policy:{0: 1.0, 1: 0.0}\n",
            "state:(8, -1), policy:{0: 1.0, 1: 0.0}\n",
            "state:(4, 2), policy:{0: 0.0, 1: 1.0}\n",
            "state:(12, 8), policy:{0: 1.0, 1: 0.0}\n",
            "state:(8, 11), policy:{0: 0.0, 1: 1.0}\n",
            "state:(12, 18), policy:{0: 1.0, 1: 0.0}\n",
            "state:(14, 12), policy:{0: 1.0, 1: 0.0}\n",
            "state:(20, 17), policy:{0: 1.0, 1: 0.0}\n",
            "state:(16, 13), policy:{0: 1.0, 1: 0.0}\n",
            "state:(15, 31), policy:{0: 1.0, 1: 0.0}\n",
            "state:(34, 20), policy:{0: 1.0, 1: 0.0}\n",
            "state:(19, 50), policy:{0: 0.0, 1: 1.0}\n",
            "state:(23, 18), policy:{0: 0.0, 1: 1.0}\n",
            "state:(27, 29), policy:{0: 0.0, 1: 1.0}\n",
            "state:(32, 31), policy:{0: 1.0, 1: 0.0}\n",
            "state:(36, 39), policy:{0: 1.0, 1: 0.0}\n",
            "state:(43, 36), policy:{0: 1.0, 1: 0.0}\n",
            "state:(37, 36), policy:{0: 1.0, 1: 0.0}\n",
            "state:(35, 47), policy:{0: 1.0, 1: 0.0}\n",
            "state:(43, 35), policy:{0: 1.0, 1: 0.0}\n",
            "state:(61, 35), policy:{0: 1.0, 1: 0.0}\n",
            "state:(40, 45), policy:{0: 1.0, 1: 0.0}\n",
            "state:(44, 39), policy:{0: 1.0, 1: 0.0}\n",
            "state:(47, 44), policy:{0: 1.0, 1: 0.0}\n",
            "state:(57, 44), policy:{0: 0.0, 1: 1.0}\n",
            "state:(48, 50), policy:{0: 1.0, 1: 0.0}\n",
            "state:(48, 51), policy:{0: 1.0, 1: 0.0}\n",
            "state:(47, 56), policy:{0: 1.0, 1: 0.0}\n",
            "state:(63, 47), policy:{0: 1.0, 1: 0.0}\n",
            "state:(55, 52), policy:{0: 1.0, 1: 0.0}\n",
            "state:(59, 51), policy:{0: 1.0, 1: 0.0}\n",
            "state:(51, 59), policy:{0: 1.0, 1: 0.0}\n",
            "state:(58, 56), policy:{0: 1.0, 1: 0.0}\n",
            "state:(61, 61), policy:{0: 1.0, 1: 0.0}\n",
            "state:(70, 61), policy:{0: 1.0, 1: 0.0}\n",
            "state:(61, 75), policy:{0: 1.0, 1: 0.0}\n",
            "state:(107, 61), policy:{0: 1.0, 1: 0.0}\n",
            "state:(79, 66), policy:{0: 1.0, 1: 0.0}\n",
            "state:(65, 71), policy:{0: 0.0, 1: 1.0}\n",
            "state:(69, 109), policy:{0: 1.0, 1: 0.0}\n",
            "state:(90, 74), policy:{0: 1.0, 1: 0.0}\n",
            "state:(74, 79), policy:{0: 0.0, 1: 1.0}\n",
            "state:(89, 83), policy:{0: 1.0, 1: 0.0}\n",
            "state:(88, 105), policy:{0: 0.0, 1: 1.0}\n",
            "state:(92, 109), policy:{0: 0.0, 1: 1.0}\n",
            "state:(96, 90), policy:{0: 0.0, 1: 1.0}\n",
            "state:(97, 100), policy:{0: 1.0, 1: 0.0}\n",
            "state:(105, 96), policy:{0: 1.0, 1: 0.0}\n",
            "state:(96, 104), policy:{0: 0.0, 1: 1.0}\n",
            "state:(100, 108), policy:{0: 1.0, 1: 0.0}\n",
            "state:(107, 99), policy:{0: 1.0, 1: 0.0}\n",
            "state:(109, 106), policy:{0: 1.0, 1: 0.0}\n",
            "state:(108, 111), policy:{0: 0.0, 1: 1.0}\n",
            "state:(121, 115), policy:{0: 1.0, 1: 0.0}\n",
            "state:(115, 108), policy:{0: 1.0, 1: 0.0}\n",
            "state:(115, 110), policy:{0: 1.0, 1: 0.0}\n",
            "state:(113, 120), policy:{0: 0.0, 1: 1.0}\n",
            "state:(124, 114), policy:{0: 1.0, 1: 0.0}\n",
            "state:(118, 129), policy:{0: 1.0, 1: 0.0}\n",
            "state:(128, 121), policy:{0: 1.0, 1: 0.0}\n",
            "state:(133, 133), policy:{0: 0.0, 1: 1.0}\n",
            "state:(117, 137), policy:{0: 1.0, 1: 0.0}\n",
            "state:(123, 137), policy:{0: 0.0, 1: 1.0}\n",
            "state:(127, 141), policy:{0: 0.0, 1: 1.0}\n",
            "state:(145, 117), policy:{0: 1.0, 1: 0.0}\n",
            "state:(144, 136), policy:{0: 1.0, 1: 0.0}\n",
            "state:(143, 135), policy:{0: 1.0, 1: 0.0}\n",
            "state:(140, 142), policy:{0: 1.0, 1: 0.0}\n",
            "state:(152, 141), policy:{0: 1.0, 1: 0.0}\n",
            "state:(140, 157), policy:{0: 1.0, 1: 0.0}\n",
            "state:(157, 140), policy:{0: 1.0, 1: 0.0}\n",
            "state:(131, 139), policy:{0: 1.0, 1: 0.0}\n",
            "state:(166, 138), policy:{0: 1.0, 1: 0.0}\n",
            "state:(142, 138), policy:{0: 1.0, 1: 0.0}\n",
            "state:(137, 165), policy:{0: 1.0, 1: 0.0}\n",
            "state:(143, 136), policy:{0: 0.0, 1: 1.0}\n",
            "state:(151, 140), policy:{0: 1.0, 1: 0.0}\n",
            "state:(145, 164), policy:{0: 1.0, 1: 0.0}\n",
            "state:(144, 156), policy:{0: 1.0, 1: 0.0}\n",
            "state:(149, 143), policy:{0: 1.0, 1: 0.0}\n",
            "state:(142, 174), policy:{0: 1.0, 1: 0.0}\n",
            "state:(142, 186), policy:{0: 1.0, 1: 0.0}\n",
            "state:(147, 183), policy:{0: 1.0, 1: 0.0}\n",
            "state:(152, 182), policy:{0: 1.0, 1: 0.0}\n",
            "state:(225, 157), policy:{0: 1.0, 1: 0.0}\n",
            "state:(157, 174), policy:{0: 1.0, 1: 0.0}\n",
            "state:(156, 178), policy:{0: 1.0, 1: 0.0}\n",
            "state:(161, 172), policy:{0: 1.0, 1: 0.0}\n",
            "state:(160, 160), policy:{0: 0.0, 1: 1.0}\n",
            "state:(164, 189), policy:{0: 1.0, 1: 0.0}\n",
            "state:(192, 169), policy:{0: 1.0, 1: 0.0}\n",
            "state:(191, 174), policy:{0: 1.0, 1: 0.0}\n",
            "state:(185, 173), policy:{0: 1.0, 1: 0.0}\n",
            "state:(172, 177), policy:{0: 1.0, 1: 0.0}\n",
            "state:(205, 171), policy:{0: 1.0, 1: 0.0}\n",
            "state:(176, 199), policy:{0: 1.0, 1: 0.0}\n",
            "98\n"
          ]
        },
        {
          "output_type": "display_data",
          "data": {
            "text/plain": [
              "<Figure size 432x288 with 1 Axes>"
            ],
            "image/png": "[encoded data removed]"
          },
          "metadata": {
            "needs_background": "light"
          }
        }
      ]
    },
    {
      "cell_type": "code",
      "source": [],
      "metadata": {
        "id": "lDONtSJhMlxW"
      },
      "execution_count": null,
      "outputs": []
    }
  ]
}
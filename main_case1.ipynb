{
  "nbformat": 4,
  "nbformat_minor": 0,
  "metadata": {
    "colab": {
      "provenance": [],
      "collapsed_sections": [],
      "authorship_tag": "ABX9TyPajqXYPqMDeleMYxZ/4oFy",
      "include_colab_link": true
    },
    "kernelspec": {
      "name": "python3",
      "display_name": "Python 3"
    },
    "language_info": {
      "name": "python"
    }
  },
  "cells": [
    {
      "cell_type": "markdown",
      "metadata": {
        "id": "view-in-github",
        "colab_type": "text"
      },
      "source": [
        "<a href=\"https://colab.research.google.com/github/UTakeuchi/PDsimulator/blob/main/main_case1.ipynb\" target=\"_parent\"><img src=\"https://colab.research.google.com/assets/colab-badge.svg\" alt=\"Open In Colab\"/></a>"
      ]
    },
    {
      "cell_type": "code",
      "execution_count": 1,
      "metadata": {
        "id": "1ruQr4KzdkHb"
      },
      "outputs": [],
      "source": [
        "from collections import defaultdict\n",
        "import numpy as np\n",
        "import matplotlib.pyplot as plt"
      ]
    },
    {
      "cell_type": "markdown",
      "source": [
        "# Q学習エージェント"
      ],
      "metadata": {
        "id": "xo0qUW9Hr89G"
      }
    },
    {
      "cell_type": "code",
      "source": [
        "def greedy_probs(Q, state, epsilon=0, action_size=2):\n",
        "    qs = [Q[(state, action)] for action in range(action_size)]\n",
        "    max_action = np.argmax(qs)\n",
        "    base_prob = epsilon / action_size\n",
        "    action_probs = {action: base_prob for action in range(action_size)}  #{0: ε/4, 1: ε/4, 2: ε/4, 3: ε/4}\n",
        "    action_probs[max_action] += (1 - epsilon)\n",
        "    return action_probs"
      ],
      "metadata": {
        "id": "PaNQlbZ4Xl4z"
      },
      "execution_count": 2,
      "outputs": []
    },
    {
      "cell_type": "code",
      "source": [
        "class Agent:\n",
        "    def __init__(self):\n",
        "        self.gamma = 0.9\n",
        "        self.alpha = 0.8\n",
        "        self.epsilon = 0.1\n",
        "        self.action_size = 2\n",
        "        self.income = 0 #所得\n",
        "        #self.rep = 'g' #評判(good or bad)    \n",
        "\n",
        "        random_actions = {0: 0.5, 1: 0.5}\n",
        "        self.pi = defaultdict(lambda: random_actions)\n",
        "        self.b = defaultdict(lambda: random_actions)\n",
        "        self.Q = defaultdict(lambda: 0)\n",
        "    \n",
        "    def get_action(self, state):\n",
        "        action_probs = self.b[state]\n",
        "        actions = list(action_probs.keys())\n",
        "        probs = list(action_probs.values())\n",
        "        return np.random.choice(actions, p=probs)\n",
        "\n",
        "    def inc_update(self, reward):\n",
        "        self.income += reward #income update\n",
        "\n",
        "    def update(self, state, action, reward, next_state):\n",
        "        next_qs = [self.Q[next_state, a] for a in range(self.action_size)]\n",
        "        next_q_max = max(next_qs)\n",
        "        \n",
        "        target = reward + self.gamma * next_q_max\n",
        "        self.Q[state, action] += self.alpha * (target - self.Q[state, action])\n",
        "\n",
        "        self.pi[state] = greedy_probs(self.Q, state, epsilon=0)\n",
        "        self.b[state] = greedy_probs(self.Q, state, self.epsilon)"
      ],
      "metadata": {
        "id": "alOKCRmCesuK"
      },
      "execution_count": 3,
      "outputs": []
    },
    {
      "cell_type": "markdown",
      "source": [
        "# Prisoner's dillema game"
      ],
      "metadata": {
        "id": "iVl-0aEGHl0W"
      }
    },
    {
      "cell_type": "code",
      "source": [
        "class PDGame:\n",
        "    def __init__(self):\n",
        "        self.action_space = [0, 1]\n",
        "        self.action_meaning = {\n",
        "            0: \"Defect\",\n",
        "            1: \"Cooperate\",\n",
        "        }\n",
        "        self.b = 5 #benefit\n",
        "        self.c = 1 #cost\n",
        "    \n",
        "    def matching(self, agents):\n",
        "        pairs = len(agents) // 2\n",
        "        return np.random.choice(agents, size=(pairs, 2), replace=False)\n",
        "        \n",
        "    def reward(self, a1, a2):\n",
        "        u1 = {(1, 1):self.b - self.c, (1, 0):-self.c, (0, 1):self.b, (0, 0):0}\n",
        "        u2 = {(1, 1):self.b - self.c, (1, 0):self.b, (0, 1):-self.c, (0, 0):0}\n",
        "        return u1[(a1,a2)], u2[(a1,a2)]"
      ],
      "metadata": {
        "id": "cgHih10DHlRj"
      },
      "execution_count": 4,
      "outputs": []
    },
    {
      "cell_type": "markdown",
      "source": [
        "## 平均値を返す関数"
      ],
      "metadata": {
        "id": "mOJDTcXUOY9h"
      }
    },
    {
      "cell_type": "code",
      "source": [
        "def avg(agents):\n",
        "    ret = 0\n",
        "    for agent in agents:\n",
        "        ret += agent.income\n",
        "    return ret / len(agents)"
      ],
      "metadata": {
        "id": "B7BJm92zOYcM"
      },
      "execution_count": 5,
      "outputs": []
    },
    {
      "cell_type": "markdown",
      "source": [
        "# シミュレーションの実行"
      ],
      "metadata": {
        "id": "6_0ouryZsIcv"
      }
    },
    {
      "cell_type": "code",
      "source": [
        "env = PDGame()\n",
        "n = 3 # agentの人数 n\n",
        "agents = []\n",
        "income_history = []\n",
        "for i in range(n):\n",
        "    agents.append(Agent())\n",
        "    income_history.append([0])\n",
        "\n",
        "rounds = 100\n",
        "for round in range(rounds):\n",
        "    players = env.matching(agents)\n",
        "    #average = avg(agents) 平均値の情報が１ラウンドごとに変わる場合\n",
        "    for pair in players:\n",
        "        player1, player2 = pair\n",
        "        state1 = (player1.income, player2.income, avg(agents)) #stateは（自分の所得, 相手の所得, 全体の平均値）の順にする\n",
        "        state2 = (player2.income, player1.income, avg(agents))\n",
        "    \n",
        "        a1 = player1.get_action(state1)\n",
        "        a2 = player2.get_action(state2) \n",
        "        r1, r2 = env.reward(a1, a2)\n",
        "\n",
        "        nr1, nr2 = player1.inc_update(r1), player2.inc_update(r2)\n",
        "        next_state1 = (nr1, nr2, avg(agents))\n",
        "        next_state2 = (nr2, nr1, avg(agents))\n",
        "        player1.update(state1, a1, r1, next_state1)\n",
        "        player2.update(state2, a2, r2, next_state2) #player2目線に変換\n",
        "\n",
        "    for i in range(n):\n",
        "        income_history[i].append(agents[i].income)\n",
        "\n",
        "for i in range(n):\n",
        "    print(\"----------agent{}'s policy-----------\".format(i+1))\n",
        "    for key, value in agents[i].pi.items():\n",
        "        print('state:{}, policy:{}'.format(key, value))\n",
        "    print('policy number = ' + str(len(agents[i].pi)))\n",
        "\n",
        "def plot_total_income(history):\n",
        "    plt.xlabel('Round')\n",
        "    plt.ylabel('Income')\n",
        "    for i in range(n):\n",
        "        plt.plot(range(len(history[i])), history[i], label='agent{}'.format(i+1))\n",
        "    plt.legend()\n",
        "    plt.show()\n",
        "\n",
        "plot_total_income(income_history)"
      ],
      "metadata": {
        "colab": {
          "base_uri": "https://localhost:8080/",
          "height": 1000
        },
        "id": "KjgJYuv2kQMO",
        "outputId": "8504b313-c885-426b-c795-ecaf6aa5facd"
      },
      "execution_count": 8,
      "outputs": [
        {
          "output_type": "stream",
          "name": "stdout",
          "text": [
            "----------agent1's policy-----------\n",
            "state:(0, 0, 0.0), policy:{0: 1.0, 1: 0.0}\n",
            "state:(-1, 18, 8.0), policy:{0: 1.0, 1: 0.0}\n",
            "state:(-1, 7, 8.0), policy:{0: 0.0, 1: 1.0}\n",
            "state:(3, 18, 10.666666666666666), policy:{0: 1.0, 1: 0.0}\n",
            "state:(3, 22, 13.333333333333334), policy:{0: 1.0, 1: 0.0}\n",
            "state:(3, 15, 13.333333333333334), policy:{0: 1.0, 1: 0.0}\n",
            "state:(2, 26, 17.333333333333332), policy:{0: 1.0, 1: 0.0}\n",
            "state:(7, 24, 20.0), policy:{0: 1.0, 1: 0.0}\n",
            "state:(12, 27, 24.0), policy:{0: 1.0, 1: 0.0}\n",
            "state:(11, 32, 25.333333333333332), policy:{0: 1.0, 1: 0.0}\n",
            "state:(11, 33, 25.333333333333332), policy:{0: 1.0, 1: 0.0}\n",
            "state:(10, 38, 26.666666666666668), policy:{0: 1.0, 1: 0.0}\n",
            "state:(15, 32, 28.0), policy:{0: 1.0, 1: 0.0}\n",
            "state:(15, 37, 28.0), policy:{0: 1.0, 1: 0.0}\n",
            "state:(20, 38, 34.666666666666664), policy:{0: 1.0, 1: 0.0}\n",
            "state:(19, 45, 37.333333333333336), policy:{0: 1.0, 1: 0.0}\n",
            "state:(18, 48, 38.666666666666664), policy:{0: 0.0, 1: 1.0}\n",
            "state:(22, 50, 41.333333333333336), policy:{0: 0.0, 1: 1.0}\n",
            "state:(26, 54, 44.0), policy:{0: 1.0, 1: 0.0}\n",
            "state:(31, 51, 46.666666666666664), policy:{0: 1.0, 1: 0.0}\n",
            "state:(31, 58, 46.666666666666664), policy:{0: 1.0, 1: 0.0}\n",
            "state:(31, 59, 52.0), policy:{0: 0.0, 1: 1.0}\n",
            "state:(35, 63, 54.666666666666664), policy:{0: 1.0, 1: 0.0}\n",
            "state:(40, 62, 56.0), policy:{0: 1.0, 1: 0.0}\n",
            "state:(40, 66, 56.0), policy:{0: 0.0, 1: 1.0}\n",
            "state:(44, 70, 58.666666666666664), policy:{0: 0.0, 1: 1.0}\n",
            "state:(48, 62, 61.333333333333336), policy:{0: 1.0, 1: 0.0}\n",
            "state:(53, 61, 62.666666666666664), policy:{0: 1.0, 1: 0.0}\n",
            "state:(58, 60, 64.0), policy:{0: 1.0, 1: 0.0}\n",
            "state:(58, 78, 66.66666666666667), policy:{0: 0.0, 1: 1.0}\n",
            "state:(62, 81, 70.66666666666667), policy:{0: 1.0, 1: 0.0}\n",
            "state:(62, 69, 70.66666666666667), policy:{0: 1.0, 1: 0.0}\n",
            "state:(67, 68, 72.0), policy:{0: 1.0, 1: 0.0}\n",
            "state:(66, 73, 73.33333333333333), policy:{0: 1.0, 1: 0.0}\n",
            "state:(66, 85, 76.0), policy:{0: 0.0, 1: 1.0}\n",
            "state:(70, 77, 78.66666666666667), policy:{0: 1.0, 1: 0.0}\n",
            "state:(69, 82, 80.0), policy:{0: 0.0, 1: 1.0}\n",
            "state:(73, 89, 82.66666666666667), policy:{0: 1.0, 1: 0.0}\n",
            "state:(73, 98, 90.66666666666667), policy:{0: 1.0, 1: 0.0}\n",
            "state:(78, 101, 92.0), policy:{0: 0.0, 1: 1.0}\n",
            "state:(82, 97, 94.66666666666667), policy:{0: 1.0, 1: 0.0}\n",
            "state:(82, 105, 94.66666666666667), policy:{0: 1.0, 1: 0.0}\n",
            "state:(82, 113, 100.0), policy:{0: 1.0, 1: 0.0}\n",
            "state:(87, 116, 104.0), policy:{0: 1.0, 1: 0.0}\n",
            "state:(86, 121, 105.33333333333333), policy:{0: 1.0, 1: 0.0}\n",
            "state:(91, 120, 106.66666666666667), policy:{0: 1.0, 1: 0.0}\n",
            "state:(90, 114, 109.33333333333333), policy:{0: 0.0, 1: 1.0}\n",
            "state:(94, 128, 114.66666666666667), policy:{0: 1.0, 1: 0.0}\n",
            "state:(99, 127, 116.0), policy:{0: 0.0, 1: 1.0}\n",
            "state:(103, 136, 120.0), policy:{0: 1.0, 1: 0.0}\n",
            "state:(108, 121, 121.33333333333333), policy:{0: 1.0, 1: 0.0}\n",
            "state:(113, 119, 124.0), policy:{0: 1.0, 1: 0.0}\n",
            "state:(118, 122, 128.0), policy:{0: 1.0, 1: 0.0}\n",
            "state:(123, 144, 129.33333333333334), policy:{0: 1.0, 1: 0.0}\n",
            "state:(128, 121, 130.66666666666666), policy:{0: 1.0, 1: 0.0}\n",
            "state:(127, 143, 132.0), policy:{0: 1.0, 1: 0.0}\n",
            "policy number = 56\n",
            "----------agent2's policy-----------\n",
            "state:(0, 5, 1.3333333333333333), policy:{0: 1.0, 1: 0.0}\n",
            "state:(-1, 10, 2.6666666666666665), policy:{0: 0.0, 1: 1.0}\n",
            "state:(3, 14, 5.333333333333333), policy:{0: 0.0, 1: 1.0}\n",
            "state:(7, 18, 8.0), policy:{0: 1.0, 1: 0.0}\n",
            "state:(7, -1, 8.0), policy:{0: 0.0, 1: 1.0}\n",
            "state:(11, 18, 10.666666666666666), policy:{0: 0.0, 1: 1.0}\n",
            "state:(15, 3, 13.333333333333334), policy:{0: 1.0, 1: 0.0}\n",
            "state:(20, 22, 14.666666666666666), policy:{0: 0.0, 1: 1.0}\n",
            "state:(24, 26, 17.333333333333332), policy:{0: 1.0, 1: 0.0}\n",
            "state:(24, 25, 18.666666666666668), policy:{0: 1.0, 1: 0.0}\n",
            "state:(29, 23, 21.333333333333332), policy:{0: 0.0, 1: 1.0}\n",
            "state:(33, 11, 25.333333333333332), policy:{0: 1.0, 1: 0.0}\n",
            "state:(38, 10, 26.666666666666668), policy:{0: 1.0, 1: 0.0}\n",
            "state:(37, 32, 28.0), policy:{0: 1.0, 1: 0.0}\n",
            "state:(37, 15, 28.0), policy:{0: 1.0, 1: 0.0}\n",
            "state:(36, 32, 29.333333333333332), policy:{0: 0.0, 1: 1.0}\n",
            "state:(40, 36, 32.0), policy:{0: 1.0, 1: 0.0}\n",
            "state:(39, 41, 33.333333333333336), policy:{0: 1.0, 1: 0.0}\n",
            "state:(38, 20, 34.666666666666664), policy:{0: 1.0, 1: 0.0}\n",
            "state:(43, 46, 36.0), policy:{0: 1.0, 1: 0.0}\n",
            "state:(48, 18, 38.666666666666664), policy:{0: 0.0, 1: 1.0}\n",
            "state:(52, 53, 45.333333333333336), policy:{0: 1.0, 1: 0.0}\n",
            "state:(51, 31, 46.666666666666664), policy:{0: 1.0, 1: 0.0}\n",
            "state:(51, 58, 46.666666666666664), policy:{0: 1.0, 1: 0.0}\n",
            "state:(50, 63, 48.0), policy:{0: 0.0, 1: 1.0}\n",
            "state:(54, 67, 50.666666666666664), policy:{0: 1.0, 1: 0.0}\n",
            "state:(59, 31, 52.0), policy:{0: 0.0, 1: 1.0}\n",
            "state:(63, 35, 54.666666666666664), policy:{0: 1.0, 1: 0.0}\n",
            "state:(62, 40, 56.0), policy:{0: 1.0, 1: 0.0}\n",
            "state:(62, 48, 61.333333333333336), policy:{0: 1.0, 1: 0.0}\n",
            "state:(61, 53, 62.666666666666664), policy:{0: 1.0, 1: 0.0}\n",
            "state:(60, 58, 64.0), policy:{0: 1.0, 1: 0.0}\n",
            "state:(60, 74, 64.0), policy:{0: 0.0, 1: 1.0}\n",
            "state:(64, 82, 69.33333333333333), policy:{0: 1.0, 1: 0.0}\n",
            "state:(69, 62, 70.66666666666667), policy:{0: 1.0, 1: 0.0}\n",
            "state:(68, 81, 72.0), policy:{0: 1.0, 1: 0.0}\n",
            "state:(68, 67, 72.0), policy:{0: 1.0, 1: 0.0}\n",
            "state:(73, 66, 73.33333333333333), policy:{0: 1.0, 1: 0.0}\n",
            "state:(73, 81, 73.33333333333333), policy:{0: 0.0, 1: 1.0}\n",
            "state:(77, 70, 78.66666666666667), policy:{0: 1.0, 1: 0.0}\n",
            "state:(82, 69, 80.0), policy:{0: 0.0, 1: 1.0}\n",
            "state:(86, 89, 82.66666666666667), policy:{0: 0.0, 1: 1.0}\n",
            "state:(90, 93, 85.33333333333333), policy:{0: 1.0, 1: 0.0}\n",
            "state:(89, 98, 86.66666666666667), policy:{0: 1.0, 1: 0.0}\n",
            "state:(94, 97, 88.0), policy:{0: 0.0, 1: 1.0}\n",
            "state:(98, 73, 90.66666666666667), policy:{0: 1.0, 1: 0.0}\n",
            "state:(97, 82, 94.66666666666667), policy:{0: 1.0, 1: 0.0}\n",
            "state:(97, 105, 94.66666666666667), policy:{0: 1.0, 1: 0.0}\n",
            "state:(96, 110, 96.0), policy:{0: 1.0, 1: 0.0}\n",
            "state:(101, 109, 97.33333333333333), policy:{0: 0.0, 1: 1.0}\n",
            "state:(105, 112, 101.33333333333333), policy:{0: 0.0, 1: 1.0}\n",
            "state:(109, 125, 108.0), policy:{0: 1.0, 1: 0.0}\n",
            "state:(114, 90, 109.33333333333333), policy:{0: 0.0, 1: 1.0}\n",
            "state:(118, 124, 112.0), policy:{0: 0.0, 1: 1.0}\n",
            "state:(122, 131, 118.66666666666667), policy:{0: 1.0, 1: 0.0}\n",
            "state:(121, 136, 120.0), policy:{0: 1.0, 1: 0.0}\n",
            "state:(121, 108, 121.33333333333333), policy:{0: 1.0, 1: 0.0}\n",
            "state:(120, 135, 122.66666666666667), policy:{0: 1.0, 1: 0.0}\n",
            "state:(119, 113, 124.0), policy:{0: 1.0, 1: 0.0}\n",
            "state:(118, 140, 125.33333333333333), policy:{0: 0.0, 1: 1.0}\n",
            "state:(122, 118, 128.0), policy:{0: 1.0, 1: 0.0}\n",
            "state:(121, 144, 129.33333333333334), policy:{0: 1.0, 1: 0.0}\n",
            "state:(121, 128, 130.66666666666666), policy:{0: 1.0, 1: 0.0}\n",
            "policy number = 63\n",
            "----------agent3's policy-----------\n",
            "state:(0, 0, 0.0), policy:{0: 1.0, 1: 0.0}\n",
            "state:(5, 0, 1.3333333333333333), policy:{0: 1.0, 1: 0.0}\n",
            "state:(10, -1, 2.6666666666666665), policy:{0: 0.0, 1: 1.0}\n",
            "state:(14, 3, 5.333333333333333), policy:{0: 0.0, 1: 1.0}\n",
            "state:(18, 7, 8.0), policy:{0: 1.0, 1: 0.0}\n",
            "state:(18, -1, 8.0), policy:{0: 1.0, 1: 0.0}\n",
            "state:(18, 3, 10.666666666666666), policy:{0: 1.0, 1: 0.0}\n",
            "state:(18, 11, 10.666666666666666), policy:{0: 0.0, 1: 1.0}\n",
            "state:(22, 3, 13.333333333333334), policy:{0: 1.0, 1: 0.0}\n",
            "state:(22, 20, 14.666666666666666), policy:{0: 0.0, 1: 1.0}\n",
            "state:(26, 24, 17.333333333333332), policy:{0: 1.0, 1: 0.0}\n",
            "state:(26, 2, 17.333333333333332), policy:{0: 1.0, 1: 0.0}\n",
            "state:(25, 24, 18.666666666666668), policy:{0: 1.0, 1: 0.0}\n",
            "state:(24, 7, 20.0), policy:{0: 1.0, 1: 0.0}\n",
            "state:(23, 29, 21.333333333333332), policy:{0: 0.0, 1: 1.0}\n",
            "state:(27, 12, 24.0), policy:{0: 1.0, 1: 0.0}\n",
            "state:(32, 11, 25.333333333333332), policy:{0: 1.0, 1: 0.0}\n",
            "state:(32, 37, 28.0), policy:{0: 1.0, 1: 0.0}\n",
            "state:(32, 15, 28.0), policy:{0: 1.0, 1: 0.0}\n",
            "state:(32, 36, 29.333333333333332), policy:{0: 0.0, 1: 1.0}\n",
            "state:(36, 40, 32.0), policy:{0: 1.0, 1: 0.0}\n",
            "state:(41, 39, 33.333333333333336), policy:{0: 1.0, 1: 0.0}\n",
            "state:(46, 43, 36.0), policy:{0: 1.0, 1: 0.0}\n",
            "state:(45, 19, 37.333333333333336), policy:{0: 1.0, 1: 0.0}\n",
            "state:(50, 22, 41.333333333333336), policy:{0: 0.0, 1: 1.0}\n",
            "state:(54, 26, 44.0), policy:{0: 1.0, 1: 0.0}\n",
            "state:(53, 52, 45.333333333333336), policy:{0: 1.0, 1: 0.0}\n",
            "state:(58, 31, 46.666666666666664), policy:{0: 1.0, 1: 0.0}\n",
            "state:(58, 51, 46.666666666666664), policy:{0: 1.0, 1: 0.0}\n",
            "state:(63, 50, 48.0), policy:{0: 0.0, 1: 1.0}\n",
            "state:(67, 54, 50.666666666666664), policy:{0: 1.0, 1: 0.0}\n",
            "state:(66, 40, 56.0), policy:{0: 0.0, 1: 1.0}\n",
            "state:(70, 44, 58.666666666666664), policy:{0: 0.0, 1: 1.0}\n",
            "state:(74, 60, 64.0), policy:{0: 0.0, 1: 1.0}\n",
            "state:(78, 58, 66.66666666666667), policy:{0: 0.0, 1: 1.0}\n",
            "state:(82, 64, 69.33333333333333), policy:{0: 1.0, 1: 0.0}\n",
            "state:(81, 62, 70.66666666666667), policy:{0: 1.0, 1: 0.0}\n",
            "state:(81, 68, 72.0), policy:{0: 1.0, 1: 0.0}\n",
            "state:(81, 73, 73.33333333333333), policy:{0: 0.0, 1: 1.0}\n",
            "state:(85, 66, 76.0), policy:{0: 0.0, 1: 1.0}\n",
            "state:(89, 73, 82.66666666666667), policy:{0: 1.0, 1: 0.0}\n",
            "state:(89, 86, 82.66666666666667), policy:{0: 0.0, 1: 1.0}\n",
            "state:(93, 90, 85.33333333333333), policy:{0: 1.0, 1: 0.0}\n",
            "state:(98, 89, 86.66666666666667), policy:{0: 1.0, 1: 0.0}\n",
            "state:(97, 94, 88.0), policy:{0: 0.0, 1: 1.0}\n",
            "state:(101, 78, 92.0), policy:{0: 0.0, 1: 1.0}\n",
            "state:(105, 82, 94.66666666666667), policy:{0: 1.0, 1: 0.0}\n",
            "state:(105, 97, 94.66666666666667), policy:{0: 1.0, 1: 0.0}\n",
            "state:(110, 96, 96.0), policy:{0: 1.0, 1: 0.0}\n",
            "state:(109, 101, 97.33333333333333), policy:{0: 0.0, 1: 1.0}\n",
            "state:(113, 82, 100.0), policy:{0: 1.0, 1: 0.0}\n",
            "state:(112, 105, 101.33333333333333), policy:{0: 0.0, 1: 1.0}\n",
            "state:(116, 87, 104.0), policy:{0: 1.0, 1: 0.0}\n",
            "state:(121, 86, 105.33333333333333), policy:{0: 1.0, 1: 0.0}\n",
            "state:(120, 91, 106.66666666666667), policy:{0: 1.0, 1: 0.0}\n",
            "state:(125, 109, 108.0), policy:{0: 1.0, 1: 0.0}\n",
            "state:(124, 118, 112.0), policy:{0: 0.0, 1: 1.0}\n",
            "state:(128, 94, 114.66666666666667), policy:{0: 1.0, 1: 0.0}\n",
            "state:(127, 99, 116.0), policy:{0: 0.0, 1: 1.0}\n",
            "state:(131, 122, 118.66666666666667), policy:{0: 1.0, 1: 0.0}\n",
            "state:(136, 121, 120.0), policy:{0: 1.0, 1: 0.0}\n",
            "state:(136, 103, 120.0), policy:{0: 1.0, 1: 0.0}\n",
            "state:(135, 120, 122.66666666666667), policy:{0: 1.0, 1: 0.0}\n",
            "state:(140, 118, 125.33333333333333), policy:{0: 0.0, 1: 1.0}\n",
            "state:(144, 121, 129.33333333333334), policy:{0: 1.0, 1: 0.0}\n",
            "state:(144, 123, 129.33333333333334), policy:{0: 1.0, 1: 0.0}\n",
            "state:(143, 127, 132.0), policy:{0: 1.0, 1: 0.0}\n",
            "policy number = 67\n"
          ]
        },
        {
          "output_type": "display_data",
          "data": {
            "text/plain": [
              "<Figure size 432x288 with 1 Axes>"
            ],
            "image/png": "[encoded data removed]"
          },
          "metadata": {
            "needs_background": "light"
          }
        }
      ]
    },
    {
      "cell_type": "code",
      "source": [],
      "metadata": {
        "id": "lDONtSJhMlxW"
      },
      "execution_count": null,
      "outputs": []
    }
  ]
}
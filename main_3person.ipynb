{
  "nbformat": 4,
  "nbformat_minor": 0,
  "metadata": {
    "colab": {
      "provenance": [],
      "collapsed_sections": [],
      "authorship_tag": "ABX9TyMa0j98uS9dKJxYmQq6dlnS",
      "include_colab_link": true
    },
    "kernelspec": {
      "name": "python3",
      "display_name": "Python 3"
    },
    "language_info": {
      "name": "python"
    }
  },
  "cells": [
    {
      "cell_type": "markdown",
      "metadata": {
        "id": "view-in-github",
        "colab_type": "text"
      },
      "source": [
        "<a href=\"https://colab.research.google.com/github/UTakeuchi/PDsimulator/blob/main/main_3person.ipynb\" target=\"_parent\"><img src=\"https://colab.research.google.com/assets/colab-badge.svg\" alt=\"Open In Colab\"/></a>"
      ]
    },
    {
      "cell_type": "code",
      "execution_count": 1,
      "metadata": {
        "id": "1ruQr4KzdkHb"
      },
      "outputs": [],
      "source": [
        "from collections import defaultdict\n",
        "import numpy as np\n",
        "import matplotlib.pyplot as plt"
      ]
    },
    {
      "cell_type": "markdown",
      "source": [
        "# Q学習エージェント"
      ],
      "metadata": {
        "id": "xo0qUW9Hr89G"
      }
    },
    {
      "cell_type": "code",
      "source": [
        "def greedy_probs(Q, state, epsilon=0, action_size=2):\n",
        "    qs = [Q[(state, action)] for action in range(action_size)]\n",
        "    max_action = np.argmax(qs)\n",
        "    base_prob = epsilon / action_size\n",
        "    action_probs = {action: base_prob for action in range(action_size)}  #{0: ε/4, 1: ε/4, 2: ε/4, 3: ε/4}\n",
        "    action_probs[max_action] += (1 - epsilon)\n",
        "    return action_probs"
      ],
      "metadata": {
        "id": "PaNQlbZ4Xl4z"
      },
      "execution_count": 2,
      "outputs": []
    },
    {
      "cell_type": "code",
      "source": [
        "class Agent:\n",
        "    def __init__(self):\n",
        "        self.gamma = 0.9\n",
        "        self.alpha = 0.8\n",
        "        self.epsilon = 0.1\n",
        "        self.action_size = 2\n",
        "        self.income = 0 #所得\n",
        "        #self.rep = 'g' #評判(good or bad)    \n",
        "\n",
        "        random_actions = {0: 0.5, 1: 0.5}\n",
        "        self.pi = defaultdict(lambda: random_actions)\n",
        "        self.b = defaultdict(lambda: random_actions)\n",
        "        self.Q = defaultdict(lambda: 0)\n",
        "    \n",
        "    def get_action(self, state):\n",
        "        action_probs = self.b[state]\n",
        "        actions = list(action_probs.keys())\n",
        "        probs = list(action_probs.values())\n",
        "        return np.random.choice(actions, p=probs)\n",
        "\n",
        "    def inc_update(self, reward):\n",
        "        self.income += reward #income update\n",
        "\n",
        "    def update(self, state, action, reward, next_state):\n",
        "        next_qs = [self.Q[next_state, a] for a in range(self.action_size)]\n",
        "        next_q_max = max(next_qs)\n",
        "        \n",
        "        target = reward + self.gamma * next_q_max\n",
        "        self.Q[state, action] += self.alpha * (target - self.Q[state, action])\n",
        "\n",
        "        self.pi[state] = greedy_probs(self.Q, state, epsilon=0)\n",
        "        self.b[state] = greedy_probs(self.Q, state, self.epsilon)"
      ],
      "metadata": {
        "id": "alOKCRmCesuK"
      },
      "execution_count": 3,
      "outputs": []
    },
    {
      "cell_type": "markdown",
      "source": [
        "# Prisoner's dillema game"
      ],
      "metadata": {
        "id": "iVl-0aEGHl0W"
      }
    },
    {
      "cell_type": "code",
      "source": [
        "class PDGame:\n",
        "    def __init__(self):\n",
        "        self.action_space = [0, 1]\n",
        "        self.action_meaning = {\n",
        "            0: \"Defect\",\n",
        "            1: \"Cooperate\",\n",
        "        }\n",
        "        self.b = 5 #benefit\n",
        "        self.c = 1 #cost\n",
        "        self.u1 = {(1, 1):self.b - self.c, (1, 0):-self.c, (0, 1):self.b, (0, 0):0}\n",
        "        self.u2 = {(1, 1):self.b - self.c, (1, 0):self.b, (0, 1):-self.c, (0, 0):0}\n",
        "    \n",
        "    def matching(self, agents):\n",
        "        return np.random.choice(agents, 2, replace=False)\n",
        "        \n",
        "    def reward(self, a1, a2):\n",
        "        return self.u1[(a1,a2)], self.u2[(a1,a2)]\n",
        "    "
      ],
      "metadata": {
        "id": "cgHih10DHlRj"
      },
      "execution_count": 14,
      "outputs": []
    },
    {
      "cell_type": "markdown",
      "source": [
        "# シミュレーションの実行"
      ],
      "metadata": {
        "id": "6_0ouryZsIcv"
      }
    },
    {
      "cell_type": "code",
      "source": [
        "env = PDGame()\n",
        "agent1 = Agent()\n",
        "agent2 = Agent()\n",
        "agent3 = Agent()\n",
        "agents = [agent1, agent2, agent3]\n",
        "\n",
        "income1_history = [0]\n",
        "income2_history = [0]\n",
        "income3_history = [0]\n",
        "rounds = 100\n",
        "for round in range(rounds):\n",
        "    player1, player2 = env.matching(agents)\n",
        "    state = (player1.income, player2.income)\n",
        "    \n",
        "    a1 = player1.get_action(state)\n",
        "    a2 = player2.get_action(state)\n",
        "    r1, r2 = env.reward(a1, a2)\n",
        "\n",
        "    next_state = (player1.inc_update(r1), player2.inc_update(r2))\n",
        "    player1.update(state, a1, r1, next_state)\n",
        "    player2.update(state, a2, r2, next_state)\n",
        "\n",
        "    income1_history.append(agent1.income)\n",
        "    income2_history.append(agent2.income)\n",
        "    income3_history.append(agent3.income)\n",
        "\n",
        "for key, value in agent1.pi.items():\n",
        "    print('state:{}, policy:{}'.format(key, value))\n",
        "print(len(agent1.pi))\n",
        "\n",
        "def plot_total_income(history1, history2, history3):\n",
        "    plt.xlabel('Round')\n",
        "    plt.ylabel('Income')\n",
        "    plt.plot(range(len(history1)), history1, label='agent1')\n",
        "    plt.plot(range(len(history2)), history2, label='agent2')\n",
        "    plt.plot(range(len(history3)), history3, label='agent3')\n",
        "    plt.legend()\n",
        "    plt.show()\n",
        "\n",
        "plot_total_income(income1_history, income2_history, income3_history)"
      ],
      "metadata": {
        "colab": {
          "base_uri": "https://localhost:8080/",
          "height": 1000
        },
        "id": "KjgJYuv2kQMO",
        "outputId": "51892c72-49fc-437e-893f-d7100a9c1a94"
      },
      "execution_count": 17,
      "outputs": [
        {
          "output_type": "stream",
          "name": "stdout",
          "text": [
            "state:(0, -1), policy:{0: 1.0, 1: 0.0}\n",
            "state:(5, 5), policy:{0: 1.0, 1: 0.0}\n",
            "state:(2, 4), policy:{0: 1.0, 1: 0.0}\n",
            "state:(4, 2), policy:{0: 1.0, 1: 0.0}\n",
            "state:(1, 9), policy:{0: 1.0, 1: 0.0}\n",
            "state:(0, 14), policy:{0: 1.0, 1: 0.0}\n",
            "state:(13, 13), policy:{0: 0.0, 1: 1.0}\n",
            "state:(15, 17), policy:{0: 1.0, 1: 0.0}\n",
            "state:(16, 17), policy:{0: 0.0, 1: 1.0}\n",
            "state:(21, 15), policy:{0: 1.0, 1: 0.0}\n",
            "state:(30, 21), policy:{0: 1.0, 1: 0.0}\n",
            "state:(21, 21), policy:{0: 1.0, 1: 0.0}\n",
            "state:(24, 26), policy:{0: 1.0, 1: 0.0}\n",
            "state:(31, 38), policy:{0: 1.0, 1: 0.0}\n",
            "state:(37, 36), policy:{0: 1.0, 1: 0.0}\n",
            "state:(41, 27), policy:{0: 1.0, 1: 0.0}\n",
            "state:(46, 26), policy:{0: 0.0, 1: 1.0}\n",
            "state:(50, 39), policy:{0: 1.0, 1: 0.0}\n",
            "state:(48, 49), policy:{0: 1.0, 1: 0.0}\n",
            "state:(47, 54), policy:{0: 0.0, 1: 1.0}\n",
            "state:(54, 58), policy:{0: 0.0, 1: 1.0}\n",
            "state:(62, 58), policy:{0: 1.0, 1: 0.0}\n",
            "state:(58, 62), policy:{0: 1.0, 1: 0.0}\n",
            "state:(62, 62), policy:{0: 1.0, 1: 0.0}\n",
            "state:(60, 67), policy:{0: 1.0, 1: 0.0}\n",
            "state:(72, 61), policy:{0: 1.0, 1: 0.0}\n",
            "state:(77, 60), policy:{0: 1.0, 1: 0.0}\n",
            "state:(81, 77), policy:{0: 1.0, 1: 0.0}\n",
            "state:(80, 82), policy:{0: 0.0, 1: 1.0}\n",
            "state:(86, 84), policy:{0: 1.0, 1: 0.0}\n",
            "state:(86, 88), policy:{0: 1.0, 1: 0.0}\n",
            "state:(83, 85), policy:{0: 1.0, 1: 0.0}\n",
            "state:(90, 82), policy:{0: 1.0, 1: 0.0}\n",
            "state:(92, 89), policy:{0: 1.0, 1: 0.0}\n",
            "state:(88, 87), policy:{0: 0.0, 1: 1.0}\n",
            "state:(92, 91), policy:{0: 1.0, 1: 0.0}\n",
            "state:(91, 97), policy:{0: 1.0, 1: 0.0}\n",
            "state:(96, 96), policy:{0: 1.0, 1: 0.0}\n",
            "state:(95, 101), policy:{0: 0.0, 1: 1.0}\n",
            "state:(96, 99), policy:{0: 1.0, 1: 0.0}\n",
            "state:(98, 110), policy:{0: 0.0, 1: 1.0}\n",
            "state:(102, 114), policy:{0: 1.0, 1: 0.0}\n",
            "state:(102, 108), policy:{0: 1.0, 1: 0.0}\n",
            "state:(101, 114), policy:{0: 1.0, 1: 0.0}\n",
            "state:(101, 123), policy:{0: 1.0, 1: 0.0}\n",
            "state:(100, 128), policy:{0: 0.0, 1: 1.0}\n",
            "state:(131, 104), policy:{0: 0.0, 1: 1.0}\n",
            "state:(108, 125), policy:{0: 1.0, 1: 0.0}\n",
            "state:(107, 139), policy:{0: 0.0, 1: 1.0}\n",
            "state:(130, 111), policy:{0: 1.0, 1: 0.0}\n",
            "state:(116, 143), policy:{0: 0.0, 1: 1.0}\n",
            "state:(120, 147), policy:{0: 1.0, 1: 0.0}\n",
            "state:(120, 128), policy:{0: 1.0, 1: 0.0}\n",
            "state:(125, 126), policy:{0: 0.0, 1: 1.0}\n",
            "54\n"
          ]
        },
        {
          "output_type": "display_data",
          "data": {
            "text/plain": [
              "<Figure size 432x288 with 1 Axes>"
            ],
            "image/png": "[encoded data removed]"
          },
          "metadata": {
            "needs_background": "light"
          }
        }
      ]
    }
  ]
}
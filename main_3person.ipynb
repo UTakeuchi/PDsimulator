{
  "nbformat": 4,
  "nbformat_minor": 0,
  "metadata": {
    "colab": {
      "provenance": [],
      "collapsed_sections": [],
      "authorship_tag": "ABX9TyOH4P3/uCb0fHVtjREO0tIj",
      "include_colab_link": true
    },
    "kernelspec": {
      "name": "python3",
      "display_name": "Python 3"
    },
    "language_info": {
      "name": "python"
    }
  },
  "cells": [
    {
      "cell_type": "markdown",
      "metadata": {
        "id": "view-in-github",
        "colab_type": "text"
      },
      "source": [
        "<a href=\"https://colab.research.google.com/github/UTakeuchi/PDsimulator/blob/main/main_3person.ipynb\" target=\"_parent\"><img src=\"https://colab.research.google.com/assets/colab-badge.svg\" alt=\"Open In Colab\"/></a>"
      ]
    },
    {
      "cell_type": "code",
      "execution_count": 1,
      "metadata": {
        "id": "1ruQr4KzdkHb"
      },
      "outputs": [],
      "source": [
        "from collections import defaultdict\n",
        "import numpy as np\n",
        "import matplotlib.pyplot as plt"
      ]
    },
    {
      "cell_type": "markdown",
      "source": [
        "# Q学習エージェント"
      ],
      "metadata": {
        "id": "xo0qUW9Hr89G"
      }
    },
    {
      "cell_type": "code",
      "source": [
        "def greedy_probs(Q, state, epsilon=0, action_size=2):\n",
        "    qs = [Q[(state, action)] for action in range(action_size)]\n",
        "    max_action = np.argmax(qs)\n",
        "    base_prob = epsilon / action_size\n",
        "    action_probs = {action: base_prob for action in range(action_size)}  #{0: ε/4, 1: ε/4, 2: ε/4, 3: ε/4}\n",
        "    action_probs[max_action] += (1 - epsilon)\n",
        "    return action_probs"
      ],
      "metadata": {
        "id": "PaNQlbZ4Xl4z"
      },
      "execution_count": 2,
      "outputs": []
    },
    {
      "cell_type": "code",
      "source": [
        "class Agent:\n",
        "    def __init__(self):\n",
        "        self.gamma = 0.9\n",
        "        self.alpha = 0.8\n",
        "        self.epsilon = 0.1\n",
        "        self.action_size = 2\n",
        "        self.income = 0 #所得\n",
        "        #self.rep = 'g' #評判(good or bad)    \n",
        "\n",
        "        random_actions = {0: 0.5, 1: 0.5}\n",
        "        self.pi = defaultdict(lambda: random_actions)\n",
        "        self.b = defaultdict(lambda: random_actions)\n",
        "        self.Q = defaultdict(lambda: 0)\n",
        "    \n",
        "    def get_action(self, state):\n",
        "        action_probs = self.b[state]\n",
        "        actions = list(action_probs.keys())\n",
        "        probs = list(action_probs.values())\n",
        "        return np.random.choice(actions, p=probs)\n",
        "\n",
        "    def inc_update(self, reward):\n",
        "        self.income += reward #income update\n",
        "\n",
        "    def update(self, state, action, reward, next_state):\n",
        "        next_qs = [self.Q[next_state, a] for a in range(self.action_size)]\n",
        "        next_q_max = max(next_qs)\n",
        "        \n",
        "        target = reward + self.gamma * next_q_max\n",
        "        self.Q[state, action] += self.alpha * (target - self.Q[state, action])\n",
        "\n",
        "        self.pi[state] = greedy_probs(self.Q, state, epsilon=0)\n",
        "        self.b[state] = greedy_probs(self.Q, state, self.epsilon)"
      ],
      "metadata": {
        "id": "alOKCRmCesuK"
      },
      "execution_count": 3,
      "outputs": []
    },
    {
      "cell_type": "markdown",
      "source": [
        "# Prisoner's dillema game"
      ],
      "metadata": {
        "id": "iVl-0aEGHl0W"
      }
    },
    {
      "cell_type": "code",
      "source": [
        "class PDGame:\n",
        "    def __init__(self):\n",
        "        self.action_space = [0, 1]\n",
        "        self.action_meaning = {\n",
        "            0: \"Defect\",\n",
        "            1: \"Cooperate\",\n",
        "        }\n",
        "        self.b = 5 #benefit\n",
        "        self.c = 1 #cost\n",
        "        self.u1 = {(1, 1):self.b - self.c, (1, 0):-self.c, (0, 1):self.b, (0, 0):0}\n",
        "        self.u2 = {(1, 1):self.b - self.c, (1, 0):self.b, (0, 1):-self.c, (0, 0):0}\n",
        "    \n",
        "    def matching(self, agents):\n",
        "        return np.random.choice(agents, 2, replace=False)\n",
        "        \n",
        "    def reward(self, a1, a2):\n",
        "        return self.u1[(a1,a2)], self.u2[(a1,a2)]\n",
        "    "
      ],
      "metadata": {
        "id": "cgHih10DHlRj"
      },
      "execution_count": 14,
      "outputs": []
    },
    {
      "cell_type": "markdown",
      "source": [
        "# シミュレーションの実行"
      ],
      "metadata": {
        "id": "6_0ouryZsIcv"
      }
    },
    {
      "cell_type": "code",
      "source": [
        "env = PDGame()\n",
        "n = 3 # agentの人数 n\n",
        "agents = []\n",
        "income_history = []\n",
        "for i in range(n):\n",
        "    agents.append(Agent())\n",
        "    income_history.append([0])\n",
        "\n",
        "# agent1 = Agent()\n",
        "# agent2 = Agent()\n",
        "# agent3 = Agent()\n",
        "# agents = [agent1, agent2, agent3]\n",
        "\n",
        "# income1_history = [0]\n",
        "# income2_history = [0]\n",
        "# income3_history = [0]\n",
        "\n",
        "rounds = 100\n",
        "for round in range(rounds):\n",
        "    player1, player2 = env.matching(agents)\n",
        "    state = (player1.income, player2.income)\n",
        "    \n",
        "    a1 = player1.get_action(state)\n",
        "    a2 = player2.get_action(state)\n",
        "    r1, r2 = env.reward(a1, a2)\n",
        "\n",
        "    next_state = (player1.inc_update(r1), player2.inc_update(r2))\n",
        "    player1.update(state, a1, r1, next_state)\n",
        "    player2.update(state, a2, r2, next_state)\n",
        "\n",
        "    for i in range(n):\n",
        "        income_history[i].append(agents[i].income)\n",
        "\n",
        "for key, value in agents[0].pi.items():\n",
        "    print('state:{}, policy:{}'.format(key, value))\n",
        "print(len(agents[0].pi))\n",
        "\n",
        "def plot_total_income(history):\n",
        "    plt.xlabel('Round')\n",
        "    plt.ylabel('Income')\n",
        "    for i in range(n):\n",
        "        plt.plot(range(len(history[i])), history[i], label='agent{}'.format(i+1))\n",
        "    plt.legend()\n",
        "    plt.show()\n",
        "\n",
        "plot_total_income(income_history)"
      ],
      "metadata": {
        "colab": {
          "base_uri": "https://localhost:8080/",
          "height": 1000
        },
        "id": "KjgJYuv2kQMO",
        "outputId": "97559251-2b08-4fa1-fe2b-c06de4b4b369"
      },
      "execution_count": 18,
      "outputs": [
        {
          "output_type": "stream",
          "name": "stdout",
          "text": [
            "state:(4, 0), policy:{0: 1.0, 1: 0.0}\n",
            "state:(7, 5), policy:{0: 0.0, 1: 1.0}\n",
            "state:(9, 11), policy:{0: 1.0, 1: 0.0}\n",
            "state:(12, 8), policy:{0: 1.0, 1: 0.0}\n",
            "state:(16, 8), policy:{0: 0.0, 1: 1.0}\n",
            "state:(12, 20), policy:{0: 1.0, 1: 0.0}\n",
            "state:(11, 12), policy:{0: 1.0, 1: 0.0}\n",
            "state:(16, 11), policy:{0: 1.0, 1: 0.0}\n",
            "state:(10, 21), policy:{0: 0.0, 1: 1.0}\n",
            "state:(14, 25), policy:{0: 1.0, 1: 0.0}\n",
            "state:(13, 30), policy:{0: 1.0, 1: 0.0}\n",
            "state:(30, 13), policy:{0: 0.0, 1: 1.0}\n",
            "state:(34, 17), policy:{0: 1.0, 1: 0.0}\n",
            "state:(22, 33), policy:{0: 0.0, 1: 1.0}\n",
            "state:(29, 26), policy:{0: 0.0, 1: 1.0}\n",
            "state:(41, 30), policy:{0: 1.0, 1: 0.0}\n",
            "state:(43, 35), policy:{0: 1.0, 1: 0.0}\n",
            "state:(40, 42), policy:{0: 1.0, 1: 0.0}\n",
            "state:(40, 50), policy:{0: 1.0, 1: 0.0}\n",
            "state:(50, 45), policy:{0: 1.0, 1: 0.0}\n",
            "state:(44, 49), policy:{0: 0.0, 1: 1.0}\n",
            "state:(48, 53), policy:{0: 1.0, 1: 0.0}\n",
            "state:(60, 47), policy:{0: 1.0, 1: 0.0}\n",
            "state:(47, 60), policy:{0: 0.0, 1: 1.0}\n",
            "state:(57, 51), policy:{0: 1.0, 1: 0.0}\n",
            "state:(51, 57), policy:{0: 1.0, 1: 0.0}\n",
            "state:(51, 66), policy:{0: 0.0, 1: 1.0}\n",
            "state:(70, 55), policy:{0: 1.0, 1: 0.0}\n",
            "state:(74, 60), policy:{0: 1.0, 1: 0.0}\n",
            "state:(60, 76), policy:{0: 0.0, 1: 1.0}\n",
            "state:(64, 80), policy:{0: 1.0, 1: 0.0}\n",
            "state:(92, 69), policy:{0: 0.0, 1: 1.0}\n",
            "state:(96, 73), policy:{0: 1.0, 1: 0.0}\n",
            "state:(95, 78), policy:{0: 1.0, 1: 0.0}\n",
            "state:(83, 94), policy:{0: 0.0, 1: 1.0}\n",
            "state:(87, 98), policy:{0: 1.0, 1: 0.0}\n",
            "state:(87, 79), policy:{0: 0.0, 1: 1.0}\n",
            "state:(91, 98), policy:{0: 1.0, 1: 0.0}\n",
            "state:(97, 96), policy:{0: 1.0, 1: 0.0}\n",
            "state:(95, 83), policy:{0: 1.0, 1: 0.0}\n",
            "state:(100, 85), policy:{0: 1.0, 1: 0.0}\n",
            "state:(85, 100), policy:{0: 0.0, 1: 1.0}\n",
            "state:(104, 111), policy:{0: 0.0, 1: 1.0}\n",
            "state:(115, 108), policy:{0: 1.0, 1: 0.0}\n",
            "state:(108, 114), policy:{0: 1.0, 1: 0.0}\n",
            "state:(99, 108), policy:{0: 1.0, 1: 0.0}\n",
            "state:(113, 122), policy:{0: 0.0, 1: 1.0}\n",
            "state:(117, 126), policy:{0: 1.0, 1: 0.0}\n",
            "state:(116, 100), policy:{0: 1.0, 1: 0.0}\n",
            "state:(115, 105), policy:{0: 1.0, 1: 0.0}\n",
            "state:(115, 136), policy:{0: 0.0, 1: 1.0}\n",
            "state:(110, 119), policy:{0: 1.0, 1: 0.0}\n",
            "state:(119, 139), policy:{0: 1.0, 1: 0.0}\n",
            "state:(118, 110), policy:{0: 0.0, 1: 1.0}\n",
            "state:(144, 122), policy:{0: 1.0, 1: 0.0}\n",
            "state:(114, 127), policy:{0: 1.0, 1: 0.0}\n",
            "state:(143, 127), policy:{0: 1.0, 1: 0.0}\n",
            "state:(132, 114), policy:{0: 0.0, 1: 1.0}\n",
            "state:(142, 136), policy:{0: 1.0, 1: 0.0}\n",
            "state:(141, 141), policy:{0: 1.0, 1: 0.0}\n",
            "state:(141, 143), policy:{0: 1.0, 1: 0.0}\n",
            "61\n"
          ]
        },
        {
          "output_type": "display_data",
          "data": {
            "text/plain": [
              "<Figure size 432x288 with 1 Axes>"
            ],
            "image/png": "[encoded data removed]"
          },
          "metadata": {
            "needs_background": "light"
          }
        }
      ]
    }
  ]
}
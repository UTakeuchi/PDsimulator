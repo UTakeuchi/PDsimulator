{
  "nbformat": 4,
  "nbformat_minor": 0,
  "metadata": {
    "colab": {
      "provenance": [],
      "collapsed_sections": [],
      "authorship_tag": "ABX9TyOHXdFFm3iN+0x4yx6RQca8",
      "include_colab_link": true
    },
    "kernelspec": {
      "name": "python3",
      "display_name": "Python 3"
    },
    "language_info": {
      "name": "python"
    }
  },
  "cells": [
    {
      "cell_type": "markdown",
      "metadata": {
        "id": "view-in-github",
        "colab_type": "text"
      },
      "source": [
        "<a href=\"https://colab.research.google.com/github/UTakeuchi/PDsimulator/blob/main/main_case2.ipynb\" target=\"_parent\"><img src=\"https://colab.research.google.com/assets/colab-badge.svg\" alt=\"Open In Colab\"/></a>"
      ]
    },
    {
      "cell_type": "code",
      "execution_count": 1,
      "metadata": {
        "id": "1ruQr4KzdkHb"
      },
      "outputs": [],
      "source": [
        "from collections import defaultdict\n",
        "import numpy as np\n",
        "import matplotlib.pyplot as plt"
      ]
    },
    {
      "cell_type": "markdown",
      "source": [
        "# Q学習エージェント"
      ],
      "metadata": {
        "id": "xo0qUW9Hr89G"
      }
    },
    {
      "cell_type": "code",
      "source": [
        "def greedy_probs(Q, state, epsilon=0, action_size=2):\n",
        "    qs = [Q[state][action] for action in range(action_size)]\n",
        "    max_action = np.argmax(qs)\n",
        "    base_prob = epsilon / action_size\n",
        "    action_probs = {action: base_prob for action in range(action_size)}  #{0: ε/4, 1: ε/4, 2: ε/4, 3: ε/4}\n",
        "    action_probs[max_action] += (1 - epsilon)\n",
        "    return action_probs"
      ],
      "metadata": {
        "id": "PaNQlbZ4Xl4z"
      },
      "execution_count": 2,
      "outputs": []
    },
    {
      "cell_type": "code",
      "source": [
        "class Agent:\n",
        "    def __init__(self):\n",
        "        self.gamma = 0.9\n",
        "        self.alpha = 0.8\n",
        "        self.epsilon = 0.1\n",
        "        self.action_size = 2   \n",
        "\n",
        "        random_actions = {0: 0.5, 1: 0.5}\n",
        "        self.pi = defaultdict(lambda: random_actions)\n",
        "        self.b = defaultdict(lambda: random_actions)\n",
        "        init = {0: 0, 1: 0}\n",
        "        self.Q = defaultdict(lambda: init)\n",
        "    \n",
        "    def get_action(self, state):\n",
        "        action_probs = self.b[state]\n",
        "        actions = list(action_probs.keys())\n",
        "        probs = list(action_probs.values())\n",
        "        return np.random.choice(actions, p=probs)\n",
        "\n",
        "    def update(self, state, action, reward, next_state):\n",
        "        next_qs = [self.Q[next_state][a] for a in range(self.action_size)]\n",
        "        next_q_max = max(next_qs)\n",
        "        \n",
        "        target = reward + self.gamma * next_q_max\n",
        "        self.Q[state][action] += self.alpha * (target - self.Q[state][action])\n",
        "\n",
        "        self.pi[state] = greedy_probs(self.Q, state, epsilon=0)\n",
        "        self.b[state] = greedy_probs(self.Q, state, self.epsilon)"
      ],
      "metadata": {
        "id": "alOKCRmCesuK"
      },
      "execution_count": 3,
      "outputs": []
    },
    {
      "cell_type": "markdown",
      "source": [
        "# Prisoner's dillema game"
      ],
      "metadata": {
        "id": "iVl-0aEGHl0W"
      }
    },
    {
      "cell_type": "code",
      "source": [
        "class PDGame:\n",
        "    def __init__(self):\n",
        "        self.action_space = [0, 1]\n",
        "        self.action_meaning = {\n",
        "            0: \"Defect\",\n",
        "            1: \"Cooperate\",\n",
        "        }\n",
        "        self.b = 5 #benefit\n",
        "        self.c = 1 #cost\n",
        "    \n",
        "    def matching(self, agents):\n",
        "        pairs = len(agents) // 2\n",
        "        return np.random.choice(agents, size=(pairs, 2), replace=False) # agentの番号を返す\n",
        "        \n",
        "    def step(self, a1, a2):\n",
        "        u1 = {(1, 1):self.b - self.c, (1, 0):-self.c, (0, 1):self.b, (0, 0):0}\n",
        "        u2 = {(1, 1):self.b - self.c, (1, 0):self.b, (0, 1):-self.c, (0, 0):0}\n",
        "        return u1[(a1,a2)], u2[(a1,a2)]"
      ],
      "metadata": {
        "id": "cgHih10DHlRj"
      },
      "execution_count": 4,
      "outputs": []
    },
    {
      "cell_type": "markdown",
      "source": [
        "# シミュレーションの実行"
      ],
      "metadata": {
        "id": "6_0ouryZsIcv"
      }
    },
    {
      "cell_type": "code",
      "source": [
        "env = PDGame()\n",
        "n = 100 # agentの人数 n\n",
        "agents = []\n",
        "for i in range(n):\n",
        "    agents.append(Agent())\n",
        "incomes = np.zeros(n) # 所得はAgents()の外部に格納\n",
        "income_history = np.zeros((3,1)) # 各行に平均値・最大値・最小値の推移を格納\n",
        "\n",
        "rounds = 100\n",
        "for round in range(rounds):\n",
        "    players = env.matching(range(len(agents)))\n",
        "    for pair in players:\n",
        "        x, y = pair\n",
        "        player1, player2 = agents[x], agents[y]\n",
        "        state = (incomes[x], incomes[y]) #stateは（自分の所得, 相手の所得）の順にする\n",
        "    \n",
        "        a1 = player1.get_action(state)\n",
        "        a2 = player2.get_action(state[::-1]) #player2目線に変換\n",
        "        r1, r2 = env.step(a1, a2)\n",
        "        incomes[x] += r1\n",
        "        incomes[y] += r2\n",
        "        next_state = (incomes[x], incomes[y])\n",
        "        player1.update(state, a1, r1, next_state)\n",
        "        player2.update(state[::-1], a2, r2, next_state[::-1])\n",
        "\n",
        "    add = np.array([[np.mean(incomes)], [incomes.max()], [incomes.min()]])\n",
        "    income_history = np.append(income_history, add, axis=1)\n",
        "\n",
        "# rand = np.random.randint(0, n)\n",
        "# for i in range(n):\n",
        "#     if i == rand:\n",
        "#         print(\"----------agent{}'s policy-----------\".format(i+1))\n",
        "#         for key, value in agents[i].pi.items():\n",
        "#             print('state:{}, policy:{}'.format(key, value))\n",
        "#         print('policy number = ' + str(len(agents[i].pi)))\n",
        "\n",
        "def plot_total_income(history):\n",
        "    plt.xlabel('Round')\n",
        "    plt.ylabel('Income')\n",
        "    plt.plot(range(len(history[0])), history[0], label='average')\n",
        "    plt.plot(range(len(history[1])), history[1], label='max')\n",
        "    plt.plot(range(len(history[2])), history[2], label='min')\n",
        "    plt.legend()\n",
        "    plt.show()\n",
        "\n",
        "plot_total_income(income_history)\n",
        "# print(incomes)\n",
        "# income_history\n",
        "# agents[0].Q"
      ],
      "metadata": {
        "colab": {
          "base_uri": "https://localhost:8080/",
          "height": 279
        },
        "id": "KjgJYuv2kQMO",
        "outputId": "cc52aa1f-7d30-4af8-a804-44cec5ffa806"
      },
      "execution_count": 5,
      "outputs": [
        {
          "output_type": "display_data",
          "data": {
            "text/plain": [
              "<Figure size 432x288 with 1 Axes>"
            ],
            "image/png": "[encoded data removed]"
          },
          "metadata": {
            "needs_background": "light"
          }
        }
      ]
    },
    {
      "cell_type": "code",
      "source": [],
      "metadata": {
        "id": "lDONtSJhMlxW"
      },
      "execution_count": 5,
      "outputs": []
    }
  ]
}
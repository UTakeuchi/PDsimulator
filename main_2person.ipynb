{
  "nbformat": 4,
  "nbformat_minor": 0,
  "metadata": {
    "colab": {
      "provenance": [],
      "collapsed_sections": [
        "Gled_79uHbi8",
        "-5B7cxkartUi"
      ],
      "authorship_tag": "ABX9TyN425Z5JyaW5E6EdLL+JT2q",
      "include_colab_link": true
    },
    "kernelspec": {
      "name": "python3",
      "display_name": "Python 3"
    },
    "language_info": {
      "name": "python"
    }
  },
  "cells": [
    {
      "cell_type": "markdown",
      "metadata": {
        "id": "view-in-github",
        "colab_type": "text"
      },
      "source": [
        "<a href=\"https://colab.research.google.com/github/UTakeuchi/PDsimulator/blob/main/main.ipynb\" target=\"_parent\"><img src=\"https://colab.research.google.com/assets/colab-badge.svg\" alt=\"Open In Colab\"/></a>"
      ]
    },
    {
      "cell_type": "code",
      "execution_count": null,
      "metadata": {
        "id": "1ruQr4KzdkHb"
      },
      "outputs": [],
      "source": [
        "from collections import defaultdict\n",
        "import numpy as np\n",
        "import matplotlib.pyplot as plt"
      ]
    },
    {
      "cell_type": "markdown",
      "source": [
        "# Q学習エージェント"
      ],
      "metadata": {
        "id": "xo0qUW9Hr89G"
      }
    },
    {
      "cell_type": "code",
      "source": [
        "def greedy_probs(Q, state, epsilon=0, action_size=2):\n",
        "    qs = [Q[(state, action)] for action in range(action_size)]\n",
        "    max_action = np.argmax(qs)\n",
        "    base_prob = epsilon / action_size\n",
        "    action_probs = {action: base_prob for action in range(action_size)}  #{0: ε/4, 1: ε/4, 2: ε/4, 3: ε/4}\n",
        "    action_probs[max_action] += (1 - epsilon)\n",
        "    return action_probs"
      ],
      "metadata": {
        "id": "PaNQlbZ4Xl4z"
      },
      "execution_count": null,
      "outputs": []
    },
    {
      "cell_type": "code",
      "source": [
        "class Agent:\n",
        "    def __init__(self):\n",
        "        self.gamma = 0.9\n",
        "        self.alpha = 0.8\n",
        "        self.epsilon = 0.1\n",
        "        self.action_size = 2\n",
        "        self.income = 0 #所得\n",
        "        #self.rep = 'g' #評判(good or bad)    \n",
        "\n",
        "        random_actions = {0: 0.5, 1: 0.5}\n",
        "        self.pi = defaultdict(lambda: random_actions)\n",
        "        self.b = defaultdict(lambda: random_actions)\n",
        "        self.Q = defaultdict(lambda: 0)\n",
        "    \n",
        "    def get_action(self, state):\n",
        "        action_probs = self.b[state]\n",
        "        actions = list(action_probs.keys())\n",
        "        probs = list(action_probs.values())\n",
        "        return np.random.choice(actions, p=probs)\n",
        "\n",
        "    def inc_update(self, reward):\n",
        "        self.income += reward #income update\n",
        "\n",
        "    def update(self, state, action, reward, next_state):\n",
        "        next_qs = [self.Q[next_state, a] for a in range(self.action_size)]\n",
        "        next_q_max = max(next_qs)\n",
        "        \n",
        "        target = reward + self.gamma * next_q_max\n",
        "        self.Q[state, action] += self.alpha * (target - self.Q[state, action])\n",
        "\n",
        "        self.pi[state] = greedy_probs(self.Q, state, epsilon=0)\n",
        "        self.b[state] = greedy_probs(self.Q, state, self.epsilon)"
      ],
      "metadata": {
        "id": "alOKCRmCesuK"
      },
      "execution_count": null,
      "outputs": []
    },
    {
      "cell_type": "markdown",
      "source": [
        "# Prisoner's dillema game"
      ],
      "metadata": {
        "id": "iVl-0aEGHl0W"
      }
    },
    {
      "cell_type": "code",
      "source": [
        "class PDGame:\n",
        "    def __init__(self):\n",
        "        self.action_space = [0, 1]\n",
        "        self.action_meaning = {\n",
        "            0: \"Defect\",\n",
        "            1: \"Cooperate\",\n",
        "        }\n",
        "        self.b = 5 #benefit\n",
        "        self.c = 1 #cost\n",
        "        self.u1 = {(1, 1):self.b - self.c, (1, 0):-self.c, (0, 1):self.b, (0, 0):0}\n",
        "        self.u2 = {(1, 1):self.b - self.c, (1, 0):self.b, (0, 1):-self.c, (0, 0):0}\n",
        "    \n",
        "    def matching():\n",
        "        return None\n",
        "        \n",
        "    def reward(self, a1, a2):\n",
        "        return self.u1[(a1,a2)], self.u2[(a1,a2)]\n",
        "    "
      ],
      "metadata": {
        "id": "cgHih10DHlRj"
      },
      "execution_count": 23,
      "outputs": []
    },
    {
      "cell_type": "markdown",
      "source": [
        "# シミュレーションの実行"
      ],
      "metadata": {
        "id": "6_0ouryZsIcv"
      }
    },
    {
      "cell_type": "code",
      "source": [
        "env = PDGame()\n",
        "agent1 = Agent()\n",
        "agent2 = Agent()\n",
        "\n",
        "income1_history = [0]\n",
        "income2_history = [0]\n",
        "rounds = 100\n",
        "for round in range(rounds):\n",
        "    state = (agent1.income, agent2.income)\n",
        "    \n",
        "    a1 = agent1.get_action(state)\n",
        "    a2 = agent2.get_action(state)\n",
        "    r1, r2 = env.reward(a1, a2)\n",
        "\n",
        "    next_state = (agent1.inc_update(r1), agent2.inc_update(r2))\n",
        "    agent1.update(state, a1, r1, next_state)\n",
        "    agent2.update(state, a2, r2, next_state)\n",
        "    income1_history.append(agent1.income)\n",
        "    income2_history.append(agent2.income)\n",
        "\n",
        "for key, value in agent1.pi.items():\n",
        "    print('state:{}, policy:{}'.format(key, value))\n",
        "print(len(agent1.pi))\n",
        "\n",
        "def plot_total_income(history1, history2):\n",
        "    plt.xlabel('Round')\n",
        "    plt.ylabel('Income')\n",
        "    plt.plot(range(len(history1)), history1, label='agent1')\n",
        "    plt.plot(range(len(history2)), history2, label='agent2')\n",
        "    #plt.ylim(0,200)\n",
        "    plt.legend()\n",
        "    plt.show()\n",
        "\n",
        "plot_total_income(income1_history, income2_history)"
      ],
      "metadata": {
        "colab": {
          "base_uri": "https://localhost:8080/",
          "height": 1000
        },
        "id": "KjgJYuv2kQMO",
        "outputId": "3cf54785-422b-41e8-d04d-3f116da40591"
      },
      "execution_count": 22,
      "outputs": [
        {
          "output_type": "stream",
          "name": "stdout",
          "text": [
            "state:(0, 0), policy:{0: 1.0, 1: 0.0}\n",
            "state:(-1, 10), policy:{0: 1.0, 1: 0.0}\n",
            "state:(-2, 20), policy:{0: 0.0, 1: 1.0}\n",
            "state:(7, 29), policy:{0: 0.0, 1: 1.0}\n",
            "state:(16, 38), policy:{0: 0.0, 1: 1.0}\n",
            "state:(25, 47), policy:{0: 1.0, 1: 0.0}\n",
            "state:(24, 57), policy:{0: 1.0, 1: 0.0}\n",
            "state:(23, 67), policy:{0: 1.0, 1: 0.0}\n",
            "state:(22, 77), policy:{0: 0.0, 1: 1.0}\n",
            "state:(31, 86), policy:{0: 0.0, 1: 1.0}\n",
            "state:(40, 95), policy:{0: 1.0, 1: 0.0}\n",
            "state:(50, 94), policy:{0: 1.0, 1: 0.0}\n",
            "state:(60, 93), policy:{0: 1.0, 1: 0.0}\n",
            "state:(70, 92), policy:{0: 1.0, 1: 0.0}\n",
            "state:(80, 91), policy:{0: 0.0, 1: 1.0}\n",
            "state:(89, 100), policy:{0: 1.0, 1: 0.0}\n",
            "state:(88, 110), policy:{0: 1.0, 1: 0.0}\n",
            "state:(98, 109), policy:{0: 1.0, 1: 0.0}\n",
            "state:(97, 119), policy:{0: 1.0, 1: 0.0}\n",
            "state:(107, 118), policy:{0: 0.0, 1: 1.0}\n",
            "state:(116, 127), policy:{0: 1.0, 1: 0.0}\n",
            "state:(115, 137), policy:{0: 0.0, 1: 1.0}\n",
            "state:(124, 146), policy:{0: 1.0, 1: 0.0}\n",
            "state:(134, 145), policy:{0: 0.0, 1: 1.0}\n",
            "state:(143, 154), policy:{0: 1.0, 1: 0.0}\n",
            "state:(142, 164), policy:{0: 0.0, 1: 1.0}\n",
            "state:(151, 173), policy:{0: 1.0, 1: 0.0}\n",
            "state:(161, 172), policy:{0: 1.0, 1: 0.0}\n",
            "state:(160, 182), policy:{0: 1.0, 1: 0.0}\n",
            "state:(170, 181), policy:{0: 1.0, 1: 0.0}\n",
            "state:(180, 180), policy:{0: 1.0, 1: 0.0}\n",
            "state:(179, 190), policy:{0: 0.0, 1: 1.0}\n",
            "state:(188, 199), policy:{0: 0.0, 1: 1.0}\n",
            "state:(197, 208), policy:{0: 0.0, 1: 1.0}\n",
            "state:(206, 217), policy:{0: 1.0, 1: 0.0}\n",
            "state:(205, 227), policy:{0: 1.0, 1: 0.0}\n",
            "state:(204, 237), policy:{0: 0.0, 1: 1.0}\n",
            "state:(213, 246), policy:{0: 1.0, 1: 0.0}\n",
            "state:(212, 256), policy:{0: 1.0, 1: 0.0}\n",
            "state:(222, 255), policy:{0: 1.0, 1: 0.0}\n",
            "state:(221, 265), policy:{0: 1.0, 1: 0.0}\n",
            "state:(231, 264), policy:{0: 1.0, 1: 0.0}\n",
            "42\n"
          ]
        },
        {
          "output_type": "display_data",
          "data": {
            "text/plain": [
              "<Figure size 432x288 with 1 Axes>"
            ],
            "image/png": "[encoded data removed]"
          },
          "metadata": {
            "needs_background": "light"
          }
        }
      ]
    }
  ]
}

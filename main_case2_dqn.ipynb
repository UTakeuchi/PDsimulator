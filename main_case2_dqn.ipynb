{
  "cells": [
    {
      "cell_type": "markdown",
      "metadata": {
        "id": "view-in-github",
        "colab_type": "text"
      },
      "source": [
        "<a href=\"https://colab.research.google.com/github/UTakeuchi/PDsimulator/blob/main/main_case2_dqn.ipynb\" target=\"_parent\"><img src=\"https://colab.research.google.com/assets/colab-badge.svg\" alt=\"Open In Colab\"/></a>"
      ]
    },
    {
      "cell_type": "code",
      "execution_count": 1,
      "metadata": {
        "colab": {
          "base_uri": "https://localhost:8080/"
        },
        "id": "GZavR2mWLI4G",
        "outputId": "a9eb7879-0cd6-434e-d9c8-da93a2247a6e"
      },
      "outputs": [
        {
          "output_type": "stream",
          "name": "stdout",
          "text": [
            "Looking in indexes: https://pypi.org/simple, https://us-python.pkg.dev/colab-wheels/public/simple/\n",
            "Collecting dezero\n",
            "  Downloading dezero-0.0.13-py3-none-any.whl (28 kB)\n",
            "Requirement already satisfied: numpy in /usr/local/lib/python3.7/dist-packages (from dezero) (1.21.6)\n",
            "Installing collected packages: dezero\n",
            "Successfully installed dezero-0.0.13\n"
          ]
        }
      ],
      "source": [
        "!pip install dezero # 初回のみ"
      ]
    },
    {
      "cell_type": "code",
      "execution_count": 2,
      "metadata": {
        "id": "1ruQr4KzdkHb"
      },
      "outputs": [],
      "source": [
        "import copy\n",
        "from collections import deque\n",
        "import random\n",
        "import numpy as np\n",
        "import matplotlib.pyplot as plt\n",
        "from dezero import Model\n",
        "from dezero import optimizers\n",
        "import dezero.functions as F\n",
        "import dezero.layers as L\n",
        "from google.colab import files"
      ]
    },
    {
      "cell_type": "markdown",
      "metadata": {
        "id": "xo0qUW9Hr89G"
      },
      "source": [
        "# DQNエージェント"
      ]
    },
    {
      "cell_type": "code",
      "execution_count": 3,
      "metadata": {
        "id": "alOKCRmCesuK"
      },
      "outputs": [],
      "source": [
        "class ReplayBuffer:\n",
        "    def __init__(self, buffer_size, batch_size):\n",
        "        self.buffer = deque(maxlen=buffer_size)\n",
        "        self.batch_size = batch_size\n",
        "\n",
        "    def add(self, state, action, reward, next_state, done):\n",
        "        data = (state, action, reward, next_state, done)\n",
        "        self.buffer.append(data)\n",
        "\n",
        "    def __len__(self):\n",
        "        return len(self.buffer)\n",
        "\n",
        "    def get_batch(self):\n",
        "        data = random.sample(self.buffer, self.batch_size)\n",
        "\n",
        "        state = np.stack([x[0] for x in data])\n",
        "        action = np.array([x[1] for x in data])\n",
        "        reward = np.array([x[2] for x in data])\n",
        "        next_state = np.stack([x[3] for x in data])\n",
        "        done = np.array([x[4] for x in data]).astype(np.int32)\n",
        "        return state, action, reward, next_state, done\n",
        "\n",
        "class QNet(Model):\n",
        "    def __init__(self, action_size):\n",
        "        super().__init__()\n",
        "        self.l1 = L.Linear(128)\n",
        "        self.l2 = L.Linear(128)\n",
        "        self.l3 = L.Linear(action_size)\n",
        "\n",
        "    def forward(self, x):\n",
        "        # x = F.relu(self.l1(x))\n",
        "        x = F.relu(self.l2(x))\n",
        "        x = self.l3(x)\n",
        "        return x\n",
        "\n",
        "\n",
        "class DQNAgent:\n",
        "    def __init__(self):\n",
        "        self.gamma = 0.99\n",
        "        self.lr = 0.0005\n",
        "        self.epsilon = 0.1\n",
        "        self.buffer_size = 10000\n",
        "        self.batch_size = 32\n",
        "        self.action_size = 2\n",
        "\n",
        "        self.replay_buffer = ReplayBuffer(self.buffer_size, self.batch_size)\n",
        "        self.qnet = QNet(self.action_size)\n",
        "        self.qnet_target = QNet(self.action_size)\n",
        "        self.optimizer = optimizers.Adam(self.lr)\n",
        "        self.optimizer.setup(self.qnet)\n",
        "\n",
        "    def get_action(self, state):\n",
        "        if np.random.rand() < self.epsilon:\n",
        "            return np.random.choice(self.action_size)\n",
        "        else:\n",
        "            state = state[np.newaxis, :]\n",
        "            qs = self.qnet(state)\n",
        "            return qs.data.argmax()\n",
        "\n",
        "    def update(self, state, action, reward, next_state, done=False):\n",
        "        self.replay_buffer.add(state, action, reward, next_state, done)\n",
        "        if len(self.replay_buffer) < self.batch_size:\n",
        "            return\n",
        "\n",
        "        state, action, reward, next_state, done = self.replay_buffer.get_batch()\n",
        "        qs = self.qnet(state)\n",
        "        q = qs[np.arange(self.batch_size), action]\n",
        "\n",
        "        next_qs = self.qnet_target(next_state)\n",
        "        next_q = next_qs.max(axis=1)\n",
        "        next_q.unchain()\n",
        "        target = reward + (1 - done) * self.gamma * next_q\n",
        "\n",
        "        loss = F.mean_squared_error(q, target)\n",
        "\n",
        "        self.qnet.cleargrads()\n",
        "        loss.backward()\n",
        "        self.optimizer.update()\n",
        "\n",
        "    def sync_qnet(self):\n",
        "        self.qnet_target = copy.deepcopy(self.qnet)"
      ]
    },
    {
      "cell_type": "markdown",
      "metadata": {
        "id": "iVl-0aEGHl0W"
      },
      "source": [
        "# Prisoner's dillema game"
      ]
    },
    {
      "cell_type": "code",
      "execution_count": 4,
      "metadata": {
        "id": "cgHih10DHlRj"
      },
      "outputs": [],
      "source": [
        "class PDGame:\n",
        "    def __init__(self):\n",
        "        self.action_space = [0, 1]\n",
        "        self.action_meaning = {\n",
        "            0: \"Defect\",\n",
        "            1: \"Cooperate\",\n",
        "        }\n",
        "        self.b = 2 # benefit\n",
        "        self.c = 1 # cost\n",
        "    \n",
        "    def matching_r(self, agents): # random matching\n",
        "        pairs = len(agents) // 2\n",
        "        return np.random.choice(agents, size=(pairs, 2), replace=False) # agentの番号を返す\n",
        "\n",
        "    def matching_s(self, incomes): # selective matching\n",
        "        index = np.argsort(incomes) # 所得の低い順にagent（番号）を並べる\n",
        "        return  index.reshape((-1, 2)) # agentの番号を返す\n",
        "        \n",
        "    def step(self, a1, a2):\n",
        "        u1 = {(1, 1):self.b - self.c, (1, 0):-self.c, (0, 1):self.b, (0, 0):0}\n",
        "        u2 = {(1, 1):self.b - self.c, (1, 0):self.b, (0, 1):-self.c, (0, 0):0}\n",
        "        return u1[(a1,a2)], u2[(a1,a2)]"
      ]
    },
    {
      "cell_type": "markdown",
      "metadata": {
        "id": "6_0ouryZsIcv"
      },
      "source": [
        "# シミュレーションの実行"
      ]
    },
    {
      "cell_type": "code",
      "source": [
        "def plot_total_income(history, title=None):\n",
        "    x = range(0, rounds+1)\n",
        "    y1 = [env.b * n for n in x] # 裏切り続ける\n",
        "    y2 = [(env.b - env.c) * n for n in x] # 全員が協力\n",
        "    y3 = np.zeros(rounds+1) # 全員が非協力\n",
        "    y4 = [- env.c * n for n in x] # 裏切られ続ける\n",
        "    plt.xlabel('Round')\n",
        "    plt.ylabel('Income')\n",
        "    plt.ylim(- env.c * n, env.b * n)\n",
        "    plt.plot(x, y1, ls='--', label='b1:T', color='black')\n",
        "    plt.plot(x, y2, ls='--', label='b2:R', color='black')\n",
        "    plt.plot(x, y3, ls='--', label='b3:P', color='black')\n",
        "    plt.plot(x, y4, ls='--', label='b4:S', color='black')\n",
        "    plt.plot(range(len(history[0])), history[0], label='max')\n",
        "    plt.plot(range(len(history[1])), history[1], label='average')\n",
        "    plt.plot(range(len(history[2])), history[2], label='min')\n",
        "    plt.legend()\n",
        "    if title != None:\n",
        "        plt.savefig(title)\n",
        "        files.download(title)\n",
        "    plt.show()"
      ],
      "metadata": {
        "id": "gj3wHsW12-7Q"
      },
      "execution_count": 5,
      "outputs": []
    },
    {
      "cell_type": "markdown",
      "metadata": {
        "id": "0C3tjjTfx93Y"
      },
      "source": [
        "## 所得を状態とするもの（先行研究に近い設定で）"
      ]
    },
    {
      "cell_type": "code",
      "execution_count": null,
      "metadata": {
        "id": "KjgJYuv2kQMO",
        "colab": {
          "base_uri": "https://localhost:8080/"
        },
        "outputId": "b69133ed-3e41-47b2-db2b-59010cbd6a65"
      },
      "outputs": [
        {
          "output_type": "stream",
          "name": "stdout",
          "text": [
            "1000 episodes complete\n"
          ]
        }
      ],
      "source": [
        "env = PDGame()\n",
        "env.b = 2\n",
        "n = 10 # agentの人数 n\n",
        "agents = []\n",
        "for i in range(n):\n",
        "    agents.append(DQNAgent())\n",
        "\n",
        "R = {0, 1} # 0: bad, 1: good\n",
        "rep = np.ones(n) # 評判を格納する配列\n",
        "def norm9(rep_i, rep_j, a_i):\n",
        "    if (rep_j == 1 and a_i == 1) or (rep_j == 0 and a_i == 0):\n",
        "        ret = 1\n",
        "    else:\n",
        "        ret = 0\n",
        "    chi = 0.001 # reputation assignment error\n",
        "    if np.random.rand() < chi:\n",
        "        return 1 - ret\n",
        "    else:\n",
        "        return ret\n",
        "\n",
        "def norm0(rep_i, rep_j, a_i):\n",
        "    ret = 0\n",
        "    chi = 0.001 # reputation assignment error\n",
        "    if np.random.rand() < chi:\n",
        "        return 1 - ret\n",
        "    else:\n",
        "        return ret\n",
        "\n",
        "episodes = 10000\n",
        "rounds = 200\n",
        "sync_interval = 20\n",
        "count = 0 # 協力回数をカウントしている間のラウンド数\n",
        "reward_history = np.zeros(n)\n",
        "for episode in range(episodes):\n",
        "    incomes = np.zeros(n) # 所得：エピソードごとにリセット\n",
        "    for round in range(rounds):\n",
        "        players = env.matching_r(range(len(agents)))\n",
        "        for pair in players:\n",
        "            x, y = pair\n",
        "            player1, player2 = agents[x], agents[y]\n",
        "            state = np.array([incomes[x], incomes[y]]) #stateは（自分の所得, 相手の所得）の順にする\n",
        "        \n",
        "            a1 = player1.get_action(state)\n",
        "            a2 = player2.get_action(state[::-1]) #player2目線に変換\n",
        "            r1, r2 = env.step(a1, a2)\n",
        "            incomes[x] += r1\n",
        "            incomes[y] += r2\n",
        "            next_state = np.array([incomes[x], incomes[y]])\n",
        "            player1.update(state, a1, r1, next_state)\n",
        "            player2.update(state[::-1], a2, r2, next_state[::-1])\n",
        "\n",
        "            # if x == 0:\n",
        "            #     income_history = np.append(income_history, np.array([state]).T, axis=1)\n",
        "            # elif y == 0:\n",
        "            #     income_history = np.append(income_history, np.array([state[::-1]]).T, axis=1)\n",
        "\n",
        "            if episode >= episodes / 2: #後半のエピソードのみ\n",
        "                reward_history[x] += r1\n",
        "                reward_history[y] += r2\n",
        "\n",
        "        if episode >= episodes / 2: #後半のエピソードのみ\n",
        "            count += 1\n",
        "    \n",
        "        if round % sync_interval == 0:\n",
        "            for agent in agents:\n",
        "                agent.sync_qnet()\n",
        "\n",
        "    if episode % 1000 == 999:\n",
        "        print('{} episodes complete'.format(episode+1))\n",
        "\n",
        "        # add = np.array([[incomes.max()], [np.mean(incomes)], [incomes.min()]])\n",
        "        # income_history = np.append(income_history, add, axis=1)\n",
        "\n",
        "# plot_total_income(income_history, '3_50learning.png')\n",
        "# plt.scatter(income_history[0], income_history[1])\n",
        "# plt.show()\n",
        "\n",
        "print('平均報酬（per agent）：', np.mean(reward_history)) # エージェント一人あたり\n",
        "print('平均報酬（per agent per round）：', np.mean(reward_history) / count) # １ラウンド、エージェント一人あたり\n",
        "print('平均報酬（per agent per round weighted b）：', np.mean(reward_history) / (env.b * count)) # 重みbで除算"
      ]
    },
    {
      "cell_type": "markdown",
      "metadata": {
        "id": "sci4zfeDr6Eg"
      },
      "source": [
        "## 3. 学習後のテストフェーズ"
      ]
    },
    {
      "cell_type": "code",
      "execution_count": null,
      "metadata": {
        "colab": {
          "base_uri": "https://localhost:8080/",
          "height": 105
        },
        "id": "lDONtSJhMlxW",
        "outputId": "1fb99c42-38e1-4c51-a541-b3fe0c156074"
      },
      "outputs": [
        {
          "data": {
            "application/javascript": [
              "\n",
              "    async function download(id, filename, size) {\n",
              "      if (!google.colab.kernel.accessAllowed) {\n",
              "        return;\n",
              "      }\n",
              "      const div = document.createElement('div');\n",
              "      const label = document.createElement('label');\n",
              "      label.textContent = `Downloading \"${filename}\": `;\n",
              "      div.appendChild(label);\n",
              "      const progress = document.createElement('progress');\n",
              "      progress.max = size;\n",
              "      div.appendChild(progress);\n",
              "      document.body.appendChild(div);\n",
              "\n",
              "      const buffers = [];\n",
              "      let downloaded = 0;\n",
              "\n",
              "      const channel = await google.colab.kernel.comms.open(id);\n",
              "      // Send a message to notify the kernel that we're ready.\n",
              "      channel.send({})\n",
              "\n",
              "      for await (const message of channel.messages) {\n",
              "        // Send a message to notify the kernel that we're ready.\n",
              "        channel.send({})\n",
              "        if (message.buffers) {\n",
              "          for (const buffer of message.buffers) {\n",
              "            buffers.push(buffer);\n",
              "            downloaded += buffer.byteLength;\n",
              "            progress.value = downloaded;\n",
              "          }\n",
              "        }\n",
              "      }\n",
              "      const blob = new Blob(buffers, {type: 'application/binary'});\n",
              "      const a = document.createElement('a');\n",
              "      a.href = window.URL.createObjectURL(blob);\n",
              "      a.download = filename;\n",
              "      div.appendChild(a);\n",
              "      a.click();\n",
              "      div.remove();\n",
              "    }\n",
              "  "
            ],
            "text/plain": [
              "<IPython.core.display.Javascript object>"
            ]
          },
          "metadata": {},
          "output_type": "display_data"
        },
        {
          "data": {
            "application/javascript": [
              "download(\"download_5154c64c-bca4-4cbc-ae71-177440d376bb\", \"3_aft50learning.png\", 24626)"
            ],
            "text/plain": [
              "<IPython.core.display.Javascript object>"
            ]
          },
          "metadata": {},
          "output_type": "display_data"
        },
        {
          "data": {
            "image/png": "[encoded data removed]",
            "text/plain": [
              "<Figure size 432x288 with 1 Axes>"
            ]
          },
          "metadata": {},
          "output_type": "display_data"
        }
      ],
      "source": [
        "incomes = np.zeros(n) # 所得を初期化\n",
        "income_history = np.zeros((3,1)) # 各行に平均値・最大値・最小値の推移を格納\n",
        "\n",
        "rounds = 100\n",
        "sync_interval = 20\n",
        "for round in range(rounds):\n",
        "    players = env.matching(range(len(agents))) # agentは変わらず\n",
        "    for pair in players:\n",
        "        x, y = pair\n",
        "        player1, player2 = agents[x], agents[y]\n",
        "        state = np.array([incomes[x], incomes[y]]) #stateは（自分の所得, 相手の所得）の順にする\n",
        "    \n",
        "        a1 = player1.get_action(state)\n",
        "        a2 = player2.get_action(state[::-1]) #player2目線に変換\n",
        "        r1, r2 = env.step(a1, a2)\n",
        "        incomes[x] += r1\n",
        "        incomes[y] += r2\n",
        "        # next_state = np.array([incomes[x], incomes[y]]) #ここは学習させない\n",
        "        # player1.update(state, a1, r1, next_state)\n",
        "        # player2.update(state[::-1], a2, r2, next_state[::-1])\n",
        "\n",
        "    add = np.array([[incomes.max()], [np.mean(incomes)], [incomes.min()]])\n",
        "    income_history = np.append(income_history, add, axis=1)\n",
        "\n",
        "plot_total_income(income_history, '3_aft50learning.png')"
      ]
    },
    {
      "cell_type": "markdown",
      "metadata": {
        "id": "JNriMTFiySv2"
      },
      "source": [
        "## 4. 既存の研究（評判を状態とするモデル）\n",
        "---\n",
        "\n"
      ]
    },
    {
      "cell_type": "code",
      "execution_count": null,
      "metadata": {
        "id": "h9qEzZgAySPK"
      },
      "outputs": [],
      "source": [
        "env = PDGame()\n",
        "n = 100 # agentの人数 n\n",
        "agents_ = [] # 別のエージェントたち\n",
        "for i in range(n):\n",
        "    agents_.append(DQNAgent())\n",
        "incomes = np.zeros(n) # 所得はAgents()の外部に格納\n",
        "income_history = np.zeros((3,1)) # 各行に平均値・最大値・最小値の推移を格納\n",
        "\n",
        "R = {0, 1} # 0: bad, 1: good\n",
        "rep = np.ones(n) # 評判を格納する配列\n",
        "def norm9(rep_i, rep_j, a_i):\n",
        "    if (rep_j == 1 and a_i == 1) or (rep_j == 0 and a_i == 0):\n",
        "        return 1\n",
        "    else:\n",
        "        return 0\n",
        "\n",
        "rounds = 100\n",
        "sync_interval = 10\n",
        "for round in range(rounds):\n",
        "    players = env.matching(range(len(agents_)))\n",
        "    for pair in players:\n",
        "        x, y = pair\n",
        "        player1, player2 = agents_[x], agents_[y]\n",
        "        state = np.array([rep[x], rep[y]]) #stateは（自分のrep, 相手のrep）の順にする\n",
        "    \n",
        "        a1 = player1.get_action(state)\n",
        "        a2 = player2.get_action(state[::-1]) #player2目線に変換\n",
        "        r1, r2 = env.step(a1, a2)\n",
        "        incomes[x] += r1\n",
        "        incomes[y] += r2\n",
        "        next_state = np.array([norm9(state[0], state[1], a1), norm9(state[1], state[0], a2)])\n",
        "        player1.update(state, a1, r1, next_state)\n",
        "        player2.update(state[::-1], a2, r2, next_state[::-1])\n",
        "    \n",
        "    if round % sync_interval == 0:\n",
        "        for agent in agents_:\n",
        "            agent.sync_qnet()\n",
        "\n",
        "    add = np.array([[incomes.max()], [np.mean(incomes)], [incomes.min()]])\n",
        "    income_history = np.append(income_history, add, axis=1)\n",
        "\n",
        "plot_total_income(income_history, '4_rep.png')"
      ]
    },
    {
      "cell_type": "markdown",
      "metadata": {
        "id": "zH5tKDD4-LoC"
      },
      "source": [
        "## 5. 初期値を最初から偏らせたとき"
      ]
    },
    {
      "cell_type": "code",
      "execution_count": null,
      "metadata": {
        "id": "rNYWvlY5-MNk"
      },
      "outputs": [],
      "source": [
        "env = PDGame()\n",
        "n = 100 # agentの人数 n\n",
        "agents_ = [] # 別のエージェントたち\n",
        "for i in range(n):\n",
        "    agents_.append(DQNAgent())\n",
        "incomes = np.random.normal(0, 10, n) # 所得の初期値を正規分布からランダムに\n",
        "income_history = np.array([[incomes.max()], [np.mean(incomes)], [incomes.min()]]) # 各行に平均値・最大値・最小値の推移を格納\n",
        "\n",
        "R = {0, 1} # 0: bad, 1: good\n",
        "rep = np.ones(n) # 評判を格納する配列\n",
        "def norm9(rep_i, rep_j, a_i):\n",
        "    if (rep_j == 1 and a_i == 1) or (rep_j == 0 and a_i == 0):\n",
        "        return 1\n",
        "    else:\n",
        "        return 0\n",
        "\n",
        "rounds = 100\n",
        "sync_interval = 10\n",
        "for round in range(rounds):\n",
        "    players = env.matching(range(len(agents_)))\n",
        "    for pair in players:\n",
        "        x, y = pair\n",
        "        player1, player2 = agents_[x], agents_[y]\n",
        "        state = np.array([rep[x], rep[y]]) #stateは（自分の所得, 相手の所得）の順にする\n",
        "    \n",
        "        a1 = player1.get_action(state)\n",
        "        a2 = player2.get_action(state[::-1]) #player2目線に変換\n",
        "        r1, r2 = env.step(a1, a2)\n",
        "        incomes[x] += r1\n",
        "        incomes[y] += r2\n",
        "        next_state = np.array([norm9(state[0], state[1], a1), norm9(state[1], state[0], a2)])\n",
        "        player1.update(state, a1, r1, next_state)\n",
        "        player2.update(state[::-1], a2, r2, next_state[::-1])\n",
        "    \n",
        "    if round % sync_interval == 0:\n",
        "        for agent in agents_:\n",
        "            agent.sync_qnet()\n",
        "\n",
        "    add = np.array([[incomes.max()], [np.mean(incomes)], [incomes.min()]])\n",
        "    income_history = np.append(income_history, add, axis=1)\n",
        "\n",
        "plot_total_income(income_history, '5_sigma=10.png')"
      ]
    },
    {
      "cell_type": "markdown",
      "metadata": {
        "id": "7RxYGLz1abyj"
      },
      "source": [
        "## 6. 所得の変化の幅（エージェント内での順位の変化）"
      ]
    },
    {
      "cell_type": "code",
      "execution_count": null,
      "metadata": {
        "id": "tf7ZRP-bab_e"
      },
      "outputs": [],
      "source": [
        "env = PDGame()\n",
        "n = 100 # agentの人数 n\n",
        "agents_ = [] # 別のエージェントたち\n",
        "for i in range(n):\n",
        "    agents_.append(DQNAgent())\n",
        "incomes = np.zeros((n,1)) # 所得はAgents()の外部に格納\n",
        "income_history = np.zeros((n,1)) # 全員分の所得を格納\n",
        "\n",
        "R = {0, 1} # 0: bad, 1: good\n",
        "rep = np.ones(n) # 評判を格納する配列\n",
        "def norm9(rep_i, rep_j, a_i):\n",
        "    if (rep_j == 1 and a_i == 1) or (rep_j == 0 and a_i == 0):\n",
        "        return 1\n",
        "    else:\n",
        "        return 0\n",
        "\n",
        "rounds = 100\n",
        "sync_interval = 10\n",
        "for round in range(1, rounds+1):\n",
        "    players = env.matching(range(len(agents_)))\n",
        "    for pair in players:\n",
        "        x, y = pair\n",
        "        player1, player2 = agents_[x], agents_[y]\n",
        "        state = np.array([rep[x], rep[y]]) #stateは（自分の所得, 相手の所得）の順にする\n",
        "    \n",
        "        a1 = player1.get_action(state)\n",
        "        a2 = player2.get_action(state[::-1]) #player2目線に変換\n",
        "        r1, r2 = env.step(a1, a2)\n",
        "        incomes[x] += r1\n",
        "        incomes[y] += r2\n",
        "        next_state = np.array([norm9(state[0], state[1], a1), norm9(state[1], state[0], a2)])\n",
        "        player1.update(state, a1, r1, next_state)\n",
        "        player2.update(state[::-1], a2, r2, next_state[::-1])\n",
        "\n",
        "    if round % sync_interval == 0:\n",
        "        for agent in agents_:\n",
        "            agent.sync_qnet()\n",
        "        income_history = np.append(income_history, incomes, axis=1)\n",
        "\n",
        "from scipy.stats import rankdata\n",
        "\n",
        "def plot_income_rank(history, num, title=None):\n",
        "    rank = rankdata(-history.T, axis=1).T\n",
        "    nums = np.random.randint(0, 100, num)\n",
        "    plt.ylim(100, 0)\n",
        "    for i in range(len(history)):\n",
        "        if i in nums:\n",
        "            plt.scatter([0,10,20,30,40,50,60,70,80,90,100], rank[i])\n",
        "            plt.plot([0,10,20,30,40,50,60,70,80,90,100], rank[i], label='agent{}'.format(i))\n",
        "    plt.legend(bbox_to_anchor=(1.05, 1), loc='upper left')\n",
        "    if title != None:\n",
        "        plt.savefig(title)\n",
        "        files.download(title)\n",
        "    plt.show()\n",
        "\n",
        "plot_income_rank(income_history, 10, '6.png')"
      ]
    },
    {
      "cell_type": "markdown",
      "metadata": {
        "id": "yDOyEyzk0B-O"
      },
      "source": [
        "## 7. マッチングパターンの変化"
      ]
    },
    {
      "cell_type": "code",
      "execution_count": null,
      "metadata": {
        "colab": {
          "base_uri": "https://localhost:8080/",
          "height": 283
        },
        "id": "gaCCbJUbBwAQ",
        "outputId": "0c904468-d83e-42ba-a699-066e9f1e98a1"
      },
      "outputs": [
        {
          "data": {
            "application/javascript": [
              "\n",
              "    async function download(id, filename, size) {\n",
              "      if (!google.colab.kernel.accessAllowed) {\n",
              "        return;\n",
              "      }\n",
              "      const div = document.createElement('div');\n",
              "      const label = document.createElement('label');\n",
              "      label.textContent = `Downloading \"${filename}\": `;\n",
              "      div.appendChild(label);\n",
              "      const progress = document.createElement('progress');\n",
              "      progress.max = size;\n",
              "      div.appendChild(progress);\n",
              "      document.body.appendChild(div);\n",
              "\n",
              "      const buffers = [];\n",
              "      let downloaded = 0;\n",
              "\n",
              "      const channel = await google.colab.kernel.comms.open(id);\n",
              "      // Send a message to notify the kernel that we're ready.\n",
              "      channel.send({})\n",
              "\n",
              "      for await (const message of channel.messages) {\n",
              "        // Send a message to notify the kernel that we're ready.\n",
              "        channel.send({})\n",
              "        if (message.buffers) {\n",
              "          for (const buffer of message.buffers) {\n",
              "            buffers.push(buffer);\n",
              "            downloaded += buffer.byteLength;\n",
              "            progress.value = downloaded;\n",
              "          }\n",
              "        }\n",
              "      }\n",
              "      const blob = new Blob(buffers, {type: 'application/binary'});\n",
              "      const a = document.createElement('a');\n",
              "      a.href = window.URL.createObjectURL(blob);\n",
              "      a.download = filename;\n",
              "      div.appendChild(a);\n",
              "      a.click();\n",
              "      div.remove();\n",
              "    }\n",
              "  "
            ],
            "text/plain": [
              "<IPython.core.display.Javascript object>"
            ]
          },
          "metadata": {},
          "output_type": "display_data"
        },
        {
          "data": {
            "application/javascript": [
              "download(\"download_881d37d2-c989-4c51-b10f-a85aa52529d1\", \"7.png\", 24267)"
            ],
            "text/plain": [
              "<IPython.core.display.Javascript object>"
            ]
          },
          "metadata": {},
          "output_type": "display_data"
        },
        {
          "data": {
            "image/png": "[encoded data removed]",
            "text/plain": [
              "<Figure size 432x288 with 1 Axes>"
            ]
          },
          "metadata": {},
          "output_type": "display_data"
        }
      ],
      "source": [
        "env = PDGame()\n",
        "n = 100 # agentの人数 n\n",
        "agents = []\n",
        "for i in range(n):\n",
        "    agents.append(DQNAgent())\n",
        "incomes = np.zeros(n) # 所得はAgents()の外部に格納\n",
        "income_history = np.zeros((3,1)) # 各行に平均値・最大値・最小値の推移を格納\n",
        "\n",
        "def matching_new(agents):\n",
        "    index = np.argsort(incomes) # 所得の低い順にagent（番号）を並べる\n",
        "    return  index.reshape((-1, 2)) # agentの番号を返す\n",
        "\n",
        "rounds = 100\n",
        "sync_interval = 10\n",
        "cc = np.zeros(n) # 協力した回数をカウント\n",
        "cc_history = np.zeros((n,1))\n",
        "for round in range(rounds):\n",
        "    players = matching_new(range(len(agents)))\n",
        "    for pair in players:\n",
        "        x, y = pair\n",
        "        player1, player2 = agents[x], agents[y]\n",
        "        state = np.array([incomes[x], incomes[y]]) #stateは（自分の所得, 相手の所得）の順にする\n",
        "    \n",
        "        a1 = player1.get_action(state)\n",
        "        a2 = player2.get_action(state[::-1]) #player2目線に変換\n",
        "        r1, r2 = env.step(a1, a2)\n",
        "        incomes[x] += r1\n",
        "        incomes[y] += r2\n",
        "        next_state = np.array([incomes[x], incomes[y]])\n",
        "        player1.update(state, a1, r1, next_state)\n",
        "        player2.update(state[::-1], a2, r2, next_state[::-1])\n",
        "        if a1 == 1:\n",
        "            cc[x] += 1\n",
        "        if a2 == 1:\n",
        "            cc[y] += 1\n",
        "\n",
        "    if round % sync_interval == 0:\n",
        "        for agent in agents:\n",
        "            agent.sync_qnet()\n",
        "\n",
        "    add = np.array([[incomes.max()], [np.mean(incomes)], [incomes.min()]])\n",
        "    income_history = np.append(income_history, add, axis=1)\n",
        "\n",
        "def plot_total_income(history, title=None):\n",
        "    x = range(0, rounds+1)\n",
        "    y1 = [env.b * n for n in x] # 裏切り続ける\n",
        "    y2 = [(env.b - env.c) * n for n in x] # 全員が協力\n",
        "    y3 = np.zeros(rounds+1) # 全員が非協力\n",
        "    y4 = [- env.c * n for n in x] # 裏切られ続ける\n",
        "    plt.xlabel('Round')\n",
        "    plt.ylabel('Income')\n",
        "    plt.ylim(- env.c * n, env.b * n)\n",
        "    plt.plot(x, y1, ls='--', label='b1:T', color='black')\n",
        "    plt.plot(x, y2, ls='--', label='b2:R', color='black')\n",
        "    plt.plot(x, y3, ls='--', label='b3:P', color='black')\n",
        "    plt.plot(x, y4, ls='--', label='b4:S', color='black')\n",
        "    plt.plot(range(len(history[0])), history[0], label='max')\n",
        "    plt.plot(range(len(history[1])), history[1], label='average')\n",
        "    plt.plot(range(len(history[2])), history[2], label='min')\n",
        "    plt.legend()\n",
        "    if title != None:\n",
        "        plt.savefig(title)\n",
        "        files.download(title)\n",
        "    plt.show()\n",
        "\n",
        "plot_total_income(income_history, '7.png')"
      ]
    },
    {
      "cell_type": "markdown",
      "metadata": {
        "id": "86j1UsfN0M2N"
      },
      "source": [
        "## 8. 累計で何割努力したか"
      ]
    },
    {
      "cell_type": "code",
      "execution_count": null,
      "metadata": {
        "id": "KEaw7z7TQLI9"
      },
      "outputs": [],
      "source": [
        "env = PDGame()\n",
        "n = 100 # agentの人数 n\n",
        "agents = []\n",
        "for i in range(n):\n",
        "    agents.append(DQNAgent())\n",
        "incomes = np.zeros(n) # 所得はAgents()の外部に格納\n",
        "income_history = np.zeros((3,1)) # 各行に平均値・最大値・最小値の推移を格納\n",
        "\n",
        "R = {'g', 'b'}\n",
        "rep = np.full(n, 'g') # 評判を格納する配列\n",
        "def norm9(rep_i, rep_j, a_i):\n",
        "    if (rep_j == 'g' and a_i == 1) or (rep_j == 'b' and a_i == 0):\n",
        "        return 'g'\n",
        "    else:\n",
        "        return 'b'\n",
        "\n",
        "rounds = 100\n",
        "sync_interval = 10\n",
        "cc = np.zeros(n) # 協力した回数をカウント\n",
        "cc_history = np.zeros((n,1))\n",
        "for round in range(rounds):\n",
        "    players = env.matching(range(len(agents)))\n",
        "    for pair in players:\n",
        "        x, y = pair\n",
        "        player1, player2 = agents[x], agents[y]\n",
        "        state = np.array([incomes[x], incomes[y]]) #stateは（自分の所得, 相手の所得）の順にする\n",
        "    \n",
        "        a1 = player1.get_action(state)\n",
        "        a2 = player2.get_action(state[::-1]) #player2目線に変換\n",
        "        r1, r2 = env.step(a1, a2)\n",
        "        incomes[x] += r1\n",
        "        incomes[y] += r2\n",
        "        next_state = np.array([incomes[x], incomes[y]])\n",
        "        player1.update(state, a1, r1, next_state)\n",
        "        player2.update(state[::-1], a2, r2, next_state[::-1])\n",
        "        if a1 == 1:\n",
        "            cc[x] += 1\n",
        "        if a2 == 1:\n",
        "            cc[y] += 1\n",
        "\n",
        "    if round % sync_interval == 0:\n",
        "        for agent in agents:\n",
        "            agent.sync_qnet()\n",
        "    if round % sync_interval == 9:\n",
        "        cc_history = np.append(cc_history, np.array([cc]).T, axis=1)\n",
        "\n",
        "plt.hist(cc, range=(0,100))\n",
        "plt.savefig('8_cc.png')\n",
        "files.download('8_cc.png')\n",
        "plt.show()\n",
        "\n",
        "# 協力率：cc/100 あとはこれをどうグラフにするか\n",
        "\n",
        "def plot_cc(history, num, title=None):\n",
        "    nums = np.random.randint(0, 100, num)\n",
        "    plt.xlabel('Round')\n",
        "    plt.ylabel('Cooperate counts')\n",
        "    plt.ylim(0, 100)\n",
        "    for i in range(len(history)):\n",
        "        if i in nums:\n",
        "            plt.scatter([0,10,20,30,40,50,60,70,80,90,100], history[i])\n",
        "            plt.plot([0,10,20,30,40,50,60,70,80,90,100], history[i], label='agent{}'.format(i))\n",
        "    plt.legend(loc='upper left')\n",
        "    if title != None:\n",
        "        plt.savefig(title)\n",
        "        files.download(title)\n",
        "    plt.show()\n",
        "\n",
        "plot_cc(cc_history, 7, '8_cc_history.png')"
      ]
    },
    {
      "cell_type": "markdown",
      "metadata": {
        "id": "PGL-gwzC2ASn"
      },
      "source": [
        "### 先行研究における協力回数"
      ]
    },
    {
      "cell_type": "code",
      "execution_count": null,
      "metadata": {
        "id": "JogZFPl01ssB"
      },
      "outputs": [],
      "source": [
        "env = PDGame()\n",
        "n = 100 # agentの人数 n\n",
        "agents = []\n",
        "for i in range(n):\n",
        "    agents.append(DQNAgent())\n",
        "incomes = np.zeros(n) # 所得はAgents()の外部に格納\n",
        "income_history = np.zeros((3,1)) # 各行に平均値・最大値・最小値の推移を格納\n",
        "\n",
        "R = {'g', 'b'}\n",
        "rep = np.full(n, 'g') # 評判を格納する配列\n",
        "def norm9(rep_i, rep_j, a_i):\n",
        "    if (rep_j == 'g' and a_i == 1) or (rep_j == 'b' and a_i == 0):\n",
        "        return 'g'\n",
        "    else:\n",
        "        return 'b'\n",
        "\n",
        "rounds = 100\n",
        "sync_interval = 10\n",
        "cc = np.zeros(n) # 協力した回数をカウント\n",
        "cc_history = np.zeros((n,1))\n",
        "for round in range(rounds):\n",
        "    players = env.matching(range(len(agents)))\n",
        "    for pair in players:\n",
        "        x, y = pair\n",
        "        player1, player2 = agents_[x], agents_[y]\n",
        "        state = np.array([rep[x], rep[y]]) #stateは（自分のrep, 相手のrep）の順にする\n",
        "    \n",
        "        a1 = player1.get_action(state)\n",
        "        a2 = player2.get_action(state[::-1]) #player2目線に変換\n",
        "        r1, r2 = env.step(a1, a2)\n",
        "        incomes[x] += r1\n",
        "        incomes[y] += r2\n",
        "        next_state = np.array([norm9(state[0], state[1], a1), norm9(state[1], state[0], a2)])\n",
        "        player1.update(state, a1, r1, next_state)\n",
        "        player2.update(state[::-1], a2, r2, next_state[::-1])\n",
        "        if a1 == 1:\n",
        "            cc[x] += 1\n",
        "        if a2 == 1:\n",
        "            cc[y] += 1\n",
        "\n",
        "    if round % sync_interval == 0:\n",
        "        for agent in agents:\n",
        "            agent.sync_qnet()\n",
        "    if round % sync_interval == 9:\n",
        "        cc_history = np.append(cc_history, np.array([cc]).T, axis=1)\n",
        "\n",
        "plt.hist(cc, range=(0,100))\n",
        "plt.savefig('8_cc.png')\n",
        "files.download('8_cc.png')\n",
        "plt.show()\n",
        "\n",
        "# 協力率：cc/100 あとはこれをどうグラフにするか\n",
        "\n",
        "def plot_cc(history, num, title=None):\n",
        "    nums = np.random.randint(0, 100, num)\n",
        "    plt.xlabel('Round')\n",
        "    plt.ylabel('Cooperate counts')\n",
        "    plt.ylim(0, 100)\n",
        "    for i in range(len(history)):\n",
        "        if i in nums:\n",
        "            plt.scatter([0,10,20,30,40,50,60,70,80,90,100], history[i])\n",
        "            plt.plot([0,10,20,30,40,50,60,70,80,90,100], history[i], label='agent{}'.format(i))\n",
        "    plt.legend(loc='upper left')\n",
        "    if title != None:\n",
        "        plt.savefig(title)\n",
        "        files.download(title)\n",
        "    plt.show()\n",
        "\n",
        "plot_cc(cc_history, 7, '8_cc_history.png')"
      ]
    },
    {
      "cell_type": "code",
      "execution_count": null,
      "metadata": {
        "id": "f4UxuhMIcJDq"
      },
      "outputs": [],
      "source": [
        "c = 0\n",
        "for i in range(50,51):\n",
        "    for j in range(100):\n",
        "        var = agents[37].qnet(np.array([i,j]))\n",
        "        print(i, j, var)\n",
        "        if (var[1] - var[0]).data > 0:\n",
        "            c += 1\n",
        "print(c / 100)"
      ]
    },
    {
      "cell_type": "markdown",
      "metadata": {
        "id": "sD1W0lEn0NMd"
      },
      "source": [
        "## 9. 偏差（50回時点、100回時点など）"
      ]
    },
    {
      "cell_type": "code",
      "execution_count": null,
      "metadata": {
        "id": "QWI_Rbr4TkbN"
      },
      "outputs": [],
      "source": [
        "env = PDGame()\n",
        "n = 100 # agentの人数 n\n",
        "agents = []\n",
        "for i in range(n):\n",
        "    agents.append(DQNAgent())\n",
        "incomes = np.zeros(n) # 所得はAgents()の外部に格納\n",
        "income_history = np.zeros((3,1)) # 各行に平均値・最大値・最小値の推移を格納\n",
        "dev_history = np.zeros((n,1))\n",
        "\n",
        "R = {'g', 'b'}\n",
        "rep = np.full(n, 'g') # 評判を格納する配列\n",
        "def norm9(rep_i, rep_j, a_i):\n",
        "    if (rep_j == 'g' and a_i == 1) or (rep_j == 'b' and a_i == 0):\n",
        "        return 'g'\n",
        "    else:\n",
        "        return 'b'\n",
        "\n",
        "rounds = 100\n",
        "sync_interval = 10\n",
        "for round in range(rounds):\n",
        "    players = env.matching(range(len(agents)))\n",
        "    for pair in players:\n",
        "        x, y = pair\n",
        "        player1, player2 = agents[x], agents[y]\n",
        "        state = np.array([incomes[x], incomes[y]]) #stateは（自分の所得, 相手の所得）の順にする\n",
        "    \n",
        "        a1 = player1.get_action(state)\n",
        "        a2 = player2.get_action(state[::-1]) #player2目線に変換\n",
        "        r1, r2 = env.step(a1, a2)\n",
        "        incomes[x] += r1\n",
        "        incomes[y] += r2\n",
        "        next_state = np.array([incomes[x], incomes[y]])\n",
        "        player1.update(state, a1, r1, next_state)\n",
        "        player2.update(state[::-1], a2, r2, next_state[::-1])\n",
        "    \n",
        "    if round % sync_interval == 0:\n",
        "        for agent in agents:\n",
        "            agent.sync_qnet()\n",
        "    # if round % sync_interval == 9:\n",
        "    #     dev = np.array([incomes - np.mean(incomes)]).T\n",
        "    #     dev_history = np.append(dev_history, dev, axis=1)\n",
        "    \n",
        "    add = np.array([[incomes.max()], [np.mean(incomes)], [incomes.min()]])\n",
        "    income_history = np.append(income_history, add, axis=1)\n",
        "    dev = np.array([incomes - np.mean(incomes)]).T\n",
        "    dev_history = np.append(dev_history, dev, axis=1)\n",
        "\n",
        "plot_total_income(income_history)\n",
        "\n",
        "def plot_dev(history, num, title=None):\n",
        "    np.random.seed(0)\n",
        "    nums = np.random.randint(0, 100, num)\n",
        "    plt.xlabel('Round')\n",
        "    plt.ylabel('Deviation')\n",
        "    # plt.ylim(0, 100)\n",
        "    for i in range(len(history)):\n",
        "        if i in nums:\n",
        "            # plt.scatter([0, 10, 20, 30, 40, 50, 60, 70, 80, 90, 100], history[i])\n",
        "            plt.plot(range(len(history[i])), history[i], label='agent{}'.format(i))\n",
        "    plt.legend(loc='upper left')\n",
        "    if title != None:\n",
        "        plt.savefig(title)\n",
        "        files.download(title)\n",
        "    plt.show()\n",
        "\n",
        "plot_dev(dev_history, 7, '9_dev_his.png')"
      ]
    },
    {
      "cell_type": "markdown",
      "metadata": {
        "id": "rBOt3PPMCfzz"
      },
      "source": [
        "## 10. qnetの階層を増やすとどうなるか"
      ]
    },
    {
      "cell_type": "markdown",
      "metadata": {
        "id": "guaECV9MCpH1"
      },
      "source": [
        "## 11. sync_intervalの変化"
      ]
    },
    {
      "cell_type": "markdown",
      "metadata": {
        "id": "U5554T5Arvnu"
      },
      "source": [
        "# QNet, 方策のチェック"
      ]
    },
    {
      "cell_type": "code",
      "execution_count": null,
      "metadata": {
        "id": "LQFMLAh1T8X-"
      },
      "outputs": [],
      "source": [
        "# c = 0\n",
        "# for i in range(10):\n",
        "#     for j in range(10):\n",
        "#         var = agents_[50].qnet(np.array([i,j]))\n",
        "#         print(i, j, var)\n",
        "#         if (var[1] - var[0]).data > 0:\n",
        "#             c += 1\n",
        "# print(c, c / 100)"
      ]
    },
    {
      "cell_type": "code",
      "execution_count": null,
      "metadata": {
        "id": "sTx1q7ck472X"
      },
      "outputs": [],
      "source": [
        "# c = 0\n",
        "# for i in range(2):\n",
        "#     for j in range(2):\n",
        "#         var = agents_[99].qnet(np.array([i,j]))\n",
        "#         print(i, j, var)\n",
        "#         if (var[1] - var[0]).data > 0:\n",
        "#             c += 1\n",
        "# print(c, c / 4)"
      ]
    }
  ],
  "metadata": {
    "colab": {
      "collapsed_sections": [
        "sci4zfeDr6Eg",
        "JNriMTFiySv2",
        "zH5tKDD4-LoC",
        "7RxYGLz1abyj",
        "yDOyEyzk0B-O",
        "86j1UsfN0M2N",
        "sD1W0lEn0NMd"
      ],
      "provenance": [],
      "authorship_tag": "ABX9TyNdRbL4BVkkKlED3R7RzJZo",
      "include_colab_link": true
    },
    "kernelspec": {
      "display_name": "Python 3",
      "name": "python3"
    },
    "language_info": {
      "name": "python"
    }
  },
  "nbformat": 4,
  "nbformat_minor": 0
}
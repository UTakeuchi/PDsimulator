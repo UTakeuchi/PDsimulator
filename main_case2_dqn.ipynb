{
  "nbformat": 4,
  "nbformat_minor": 0,
  "metadata": {
    "colab": {
      "provenance": [],
      "collapsed_sections": [],
      "authorship_tag": "ABX9TyOeVv/hULyFwdp3nTznNFfJ",
      "include_colab_link": true
    },
    "kernelspec": {
      "name": "python3",
      "display_name": "Python 3"
    },
    "language_info": {
      "name": "python"
    }
  },
  "cells": [
    {
      "cell_type": "markdown",
      "metadata": {
        "id": "view-in-github",
        "colab_type": "text"
      },
      "source": [
        "<a href=\"https://colab.research.google.com/github/UTakeuchi/PDsimulator/blob/main/main_case2_dqn.ipynb\" target=\"_parent\"><img src=\"https://colab.research.google.com/assets/colab-badge.svg\" alt=\"Open In Colab\"/></a>"
      ]
    },
    {
      "cell_type": "code",
      "source": [
        "!pip install dezero # 初回のみ"
      ],
      "metadata": {
        "id": "GZavR2mWLI4G"
      },
      "execution_count": null,
      "outputs": []
    },
    {
      "cell_type": "code",
      "execution_count": 1,
      "metadata": {
        "id": "1ruQr4KzdkHb"
      },
      "outputs": [],
      "source": [
        "from collections import defaultdict\n",
        "import copy\n",
        "from collections import deque\n",
        "import random\n",
        "import numpy as np\n",
        "import matplotlib.pyplot as plt\n",
        "from dezero import Model\n",
        "from dezero import optimizers\n",
        "import dezero.functions as F\n",
        "import dezero.layers as L"
      ]
    },
    {
      "cell_type": "markdown",
      "source": [
        "# DQNエージェント"
      ],
      "metadata": {
        "id": "xo0qUW9Hr89G"
      }
    },
    {
      "cell_type": "code",
      "source": [
        "class ReplayBuffer:\n",
        "    def __init__(self, buffer_size, batch_size):\n",
        "        self.buffer = deque(maxlen=buffer_size)\n",
        "        self.batch_size = batch_size\n",
        "\n",
        "    def add(self, state, action, reward, next_state, done):\n",
        "        data = (state, action, reward, next_state, done)\n",
        "        self.buffer.append(data)\n",
        "\n",
        "    def __len__(self):\n",
        "        return len(self.buffer)\n",
        "\n",
        "    def get_batch(self):\n",
        "        data = random.sample(self.buffer, self.batch_size)\n",
        "\n",
        "        state = np.stack([x[0] for x in data])\n",
        "        action = np.array([x[1] for x in data])\n",
        "        reward = np.array([x[2] for x in data])\n",
        "        next_state = np.stack([x[3] for x in data])\n",
        "        done = np.array([x[4] for x in data]).astype(np.int32)\n",
        "        return state, action, reward, next_state, done\n",
        "\n",
        "class QNet(Model):\n",
        "    def __init__(self, action_size):\n",
        "        super().__init__()\n",
        "        # self.l1 = L.Linear(128)\n",
        "        self.l2 = L.Linear(128)\n",
        "        self.l3 = L.Linear(action_size)\n",
        "\n",
        "    def forward(self, x):\n",
        "        # x = F.relu(self.l1(x))\n",
        "        x = F.relu(self.l2(x))\n",
        "        x = self.l3(x)\n",
        "        return x\n",
        "\n",
        "\n",
        "class DQNAgent:\n",
        "    def __init__(self):\n",
        "        self.gamma = 0.98\n",
        "        self.lr = 0.0005\n",
        "        self.epsilon = 0.1\n",
        "        self.buffer_size = 10000\n",
        "        self.batch_size = 32\n",
        "        self.action_size = 2\n",
        "\n",
        "        self.replay_buffer = ReplayBuffer(self.buffer_size, self.batch_size)\n",
        "        self.qnet = QNet(self.action_size)\n",
        "        self.qnet_target = QNet(self.action_size)\n",
        "        self.optimizer = optimizers.Adam(self.lr)\n",
        "        self.optimizer.setup(self.qnet)\n",
        "\n",
        "    def get_action(self, state):\n",
        "        if np.random.rand() < self.epsilon:\n",
        "            return np.random.choice(self.action_size)\n",
        "        else:\n",
        "            state = state[np.newaxis, :]\n",
        "            qs = self.qnet(state)\n",
        "            return qs.data.argmax()\n",
        "\n",
        "    def update(self, state, action, reward, next_state, done=False):\n",
        "        self.replay_buffer.add(state, action, reward, next_state, done)\n",
        "        if len(self.replay_buffer) < self.batch_size:\n",
        "            return\n",
        "\n",
        "        state, action, reward, next_state, done = self.replay_buffer.get_batch()\n",
        "        qs = self.qnet(state)\n",
        "        q = qs[np.arange(self.batch_size), action]\n",
        "\n",
        "        next_qs = self.qnet_target(next_state)\n",
        "        next_q = next_qs.max(axis=1)\n",
        "        next_q.unchain()\n",
        "        target = reward + (1 - done) * self.gamma * next_q\n",
        "\n",
        "        loss = F.mean_squared_error(q, target)\n",
        "\n",
        "        self.qnet.cleargrads()\n",
        "        loss.backward()\n",
        "        self.optimizer.update()\n",
        "\n",
        "    def sync_qnet(self):\n",
        "        self.qnet_target = copy.deepcopy(self.qnet)"
      ],
      "metadata": {
        "id": "alOKCRmCesuK"
      },
      "execution_count": 2,
      "outputs": []
    },
    {
      "cell_type": "markdown",
      "source": [
        "# Prisoner's dillema game"
      ],
      "metadata": {
        "id": "iVl-0aEGHl0W"
      }
    },
    {
      "cell_type": "code",
      "source": [
        "class PDGame:\n",
        "    def __init__(self):\n",
        "        self.action_space = [0, 1]\n",
        "        self.action_meaning = {\n",
        "            0: \"Defect\",\n",
        "            1: \"Cooperate\",\n",
        "        }\n",
        "        self.b = 5 #benefit\n",
        "        self.c = 1 #cost\n",
        "    \n",
        "    def matching(self, agents):\n",
        "        pairs = len(agents) // 2\n",
        "        return np.random.choice(agents, size=(pairs, 2), replace=False) # agentの番号を返す\n",
        "        \n",
        "    def step(self, a1, a2):\n",
        "        u1 = {(1, 1):self.b - self.c, (1, 0):-self.c, (0, 1):self.b, (0, 0):0}\n",
        "        u2 = {(1, 1):self.b - self.c, (1, 0):self.b, (0, 1):-self.c, (0, 0):0}\n",
        "        return u1[(a1,a2)], u2[(a1,a2)]"
      ],
      "metadata": {
        "id": "cgHih10DHlRj"
      },
      "execution_count": 3,
      "outputs": []
    },
    {
      "cell_type": "markdown",
      "source": [
        "# シミュレーションの実行"
      ],
      "metadata": {
        "id": "6_0ouryZsIcv"
      }
    },
    {
      "cell_type": "code",
      "source": [
        "env = PDGame()\n",
        "n = 100 # agentの人数 n\n",
        "agents = []\n",
        "for i in range(n):\n",
        "    agents.append(DQNAgent())\n",
        "incomes = np.zeros(n) # 所得はAgents()の外部に格納\n",
        "income_history = np.zeros((3,1)) # 各行に平均値・最大値・最小値の推移を格納\n",
        "\n",
        "rounds = 100\n",
        "sync_interval = 20\n",
        "for round in range(rounds):\n",
        "    players = env.matching(range(len(agents)))\n",
        "    for pair in players:\n",
        "        x, y = pair\n",
        "        player1, player2 = agents[x], agents[y]\n",
        "        state = np.array([incomes[x], incomes[y]]) #stateは（自分の所得, 相手の所得）の順にする\n",
        "    \n",
        "        a1 = player1.get_action(state)\n",
        "        a2 = player2.get_action(state[::-1]) #player2目線に変換\n",
        "        r1, r2 = env.step(a1, a2)\n",
        "        incomes[x] += r1\n",
        "        incomes[y] += r2\n",
        "        next_state = np.array([incomes[x], incomes[y]])\n",
        "        player1.update(state, a1, r1, next_state)\n",
        "        player2.update(state[::-1], a2, r2, next_state[::-1])\n",
        "    \n",
        "    if round % sync_interval == 0:\n",
        "        for agent in agents:\n",
        "            agent.sync_qnet()\n",
        "\n",
        "    add = np.array([[np.mean(incomes)], [incomes.max()], [incomes.min()]])\n",
        "    income_history = np.append(income_history, add, axis=1)\n",
        "\n",
        "# rand = np.random.randint(0, n)\n",
        "# for i in range(n):\n",
        "#     if i == rand:\n",
        "#         print(\"----------agent{}'s policy-----------\".format(i+1))\n",
        "#         for key, value in agents[i].pi.items():\n",
        "#             print('state:{}, policy:{}'.format(key, value))\n",
        "#         print('policy number = ' + str(len(agents[i].pi)))\n",
        "\n",
        "def plot_total_income(history):\n",
        "    plt.xlabel('Round')\n",
        "    plt.ylabel('Income')\n",
        "    plt.plot(range(len(history[0])), history[0], label='average')\n",
        "    plt.plot(range(len(history[1])), history[1], label='max')\n",
        "    plt.plot(range(len(history[2])), history[2], label='min')\n",
        "    plt.legend()\n",
        "    plt.show()\n",
        "\n",
        "plot_total_income(income_history)"
      ],
      "metadata": {
        "colab": {
          "base_uri": "https://localhost:8080/",
          "height": 279
        },
        "id": "KjgJYuv2kQMO",
        "outputId": "312644cf-6f29-4f11-dc3e-c2abc757a4b6"
      },
      "execution_count": 13,
      "outputs": [
        {
          "output_type": "display_data",
          "data": {
            "text/plain": [
              "<Figure size 432x288 with 1 Axes>"
            ],
            "image/png": "[encoded data removed]"
          },
          "metadata": {
            "needs_background": "light"
          }
        }
      ]
    },
    {
      "cell_type": "code",
      "source": [
        "# 学習後のテストフェーズ\n",
        "incomes = np.zeros(n) # 所得を初期化\n",
        "income_history = np.zeros((3,1)) # 各行に平均値・最大値・最小値の推移を格納\n",
        "\n",
        "rounds = 100\n",
        "sync_interval = 20\n",
        "for round in range(rounds):\n",
        "    players = env.matching(range(len(agents)))\n",
        "    for pair in players:\n",
        "        x, y = pair\n",
        "        player1, player2 = agents[x], agents[y]\n",
        "        state = np.array([incomes[x], incomes[y]]) #stateは（自分の所得, 相手の所得）の順にする\n",
        "    \n",
        "        a1 = player1.get_action(state)\n",
        "        a2 = player2.get_action(state[::-1]) #player2目線に変換\n",
        "        r1, r2 = env.step(a1, a2)\n",
        "        incomes[x] += r1\n",
        "        incomes[y] += r2\n",
        "        # next_state = np.array([incomes[x], incomes[y]])\n",
        "        # player1.update(state, a1, r1, next_state)\n",
        "        # player2.update(state[::-1], a2, r2, next_state[::-1])\n",
        "\n",
        "    add = np.array([[np.mean(incomes)], [incomes.max()], [incomes.min()]])\n",
        "    income_history = np.append(income_history, add, axis=1)\n",
        "\n",
        "def plot_total_income(history):\n",
        "    plt.xlabel('Round')\n",
        "    plt.ylabel('Income')\n",
        "    plt.plot(range(len(history[0])), history[0], label='average')\n",
        "    plt.plot(range(len(history[1])), history[1], label='max')\n",
        "    plt.plot(range(len(history[2])), history[2], label='min')\n",
        "    plt.legend()\n",
        "    plt.show()\n",
        "\n",
        "plot_total_income(income_history)"
      ],
      "metadata": {
        "id": "lDONtSJhMlxW",
        "colab": {
          "base_uri": "https://localhost:8080/",
          "height": 279
        },
        "outputId": "954de3e8-1884-4c3c-f7f9-84276c5476b9"
      },
      "execution_count": 17,
      "outputs": [
        {
          "output_type": "display_data",
          "data": {
            "text/plain": [
              "<Figure size 432x288 with 1 Axes>"
            ],
            "image/png": "[encoded data removed]"
          },
          "metadata": {
            "needs_background": "light"
          }
        }
      ]
    }
  ]
}